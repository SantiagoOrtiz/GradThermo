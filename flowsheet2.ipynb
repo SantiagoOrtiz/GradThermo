{
 "cells": [
  {
   "cell_type": "code",
   "execution_count": 1,
   "id": "0de9a2b9",
   "metadata": {},
   "outputs": [],
   "source": [
    "from src.solving_eos import EOS"
   ]
  },
  {
   "cell_type": "code",
   "execution_count": 2,
   "id": "8caf2406",
   "metadata": {},
   "outputs": [
    {
     "name": "stdout",
     "output_type": "stream",
     "text": [
      "ω =  0.151\n",
      "Pc =  6680000.0\n",
      "Tc =  416.2\n",
      "Or =  [7.32  0.637 0.637]\n",
      "Ov =  [4270. 1950. 1050. 4380. 4380. 2140. 2140. 1460. 1460.]\n",
      "             T1     T2       A         B         C\n",
      "molecule                                          \n",
      "CH3Cl     198.0  300.0  4.2251   951.561   -23.468\n",
      "CH3Cl     300.0  416.3  4.9186  1427.529  1427.529\n"
     ]
    }
   ],
   "source": [
    "molecule = EOS(molecule='CH3Cl')\n",
    "print(\"ω = \", molecule.ω)\n",
    "print(\"Pc = \", molecule.Pc)\n",
    "print(\"Tc = \", molecule.Tc)\n",
    "print(\"Or = \", molecule.Or)\n",
    "print(\"Ov = \", molecule.Ov)\n",
    "print(molecule.antoineq)"
   ]
  },
  {
   "cell_type": "code",
   "execution_count": 3,
   "id": "33ccc5c2",
   "metadata": {},
   "outputs": [
    {
     "data": {
      "text/plain": [
       "array([2.76496058e-01, 4.65007355e-05])"
      ]
     },
     "execution_count": 3,
     "metadata": {},
     "output_type": "execute_result"
    }
   ],
   "source": [
    "T1 = [200, 200]\n",
    "P1 = [6000, 9000]\n",
    "molecule.solve_eos(T1, P1)"
   ]
  },
  {
   "cell_type": "code",
   "execution_count": 4,
   "id": "f48679b6",
   "metadata": {},
   "outputs": [
    {
     "data": {
      "text/plain": [
       "<matplotlib.collections.PathCollection at 0x20b9bd0f940>"
      ]
     },
     "execution_count": 4,
     "metadata": {},
     "output_type": "execute_result"
    },
    {
     "data": {
      "image/png": "[encoded data removed]",
      "text/plain": [
       "<Figure size 640x480 with 1 Axes>"
      ]
     },
     "metadata": {},
     "output_type": "display_data"
    }
   ],
   "source": [
    "import numpy as np\n",
    "import matplotlib.pyplot as plt\n",
    "T = np.linspace(198.1, 210, 100)\n",
    "plt.plot(T, molecule.antoine(T))\n",
    "plt.scatter(T1, P1)"
   ]
  },
  {
   "cell_type": "code",
   "execution_count": 5,
   "id": "db72a2bc",
   "metadata": {},
   "outputs": [
    {
     "name": "stdout",
     "output_type": "stream",
     "text": [
      "H1_Ideal = -1544.29 kJ/mol     S1_Ideal =   242.885 J/mol/K     G1_Ideal = -1592.87 kJ/mol\n",
      "H2_Ideal = -1533.59 kJ/mol     S2_Ideal =   247.174  J/mol/K     G2_Ideal = -1644.82 kJ/mol\n",
      "\n",
      "H1_Depart =    -23.13 kJ/mol     S1_Depart = -116.969 J/mol/K     G1_Depart =   0.27 kJ/mol\n",
      "H2_Depart =  -15.48 kJ/mol     S2_Depart =   -61.329 J/mol/K     G2_Depart =  7.3 kJ/mol\n",
      "\n",
      "ΔH1_to_2_Ideal =   10.7 kJ/mol         ΔH1_to_2_Real =  18.35 kJ/mol    \n",
      "ΔS1_to_2_Ideal =   4.3 J/mol/K        ΔS1_to_2_Real =  59.9 J/mol/K    \n",
      "ΔG1_to_2_Ideal = -51.95 kJ/mol        ΔG1_to_2_Real =  -44.91 kJ/mol    \n"
     ]
    }
   ],
   "source": [
    "#Deliverables in Summary Format:\n",
    "T1 = 200     #Kelvin\n",
    "P1 = 6000    #Pascals\n",
    "\n",
    "T2 = 450     #Kelvin\n",
    "P2 = 209000  #Pascals\n",
    "\n",
    "H1_Ideal = molecule.H_ig(T1, P1)\n",
    "S1_Ideal = molecule.S_ig(T1, P1)\n",
    "G1_Ideal = H1_Ideal-T1*S1_Ideal\n",
    "\n",
    "H2_Ideal = molecule.H_ig(T2, P2)\n",
    "S2_Ideal = molecule.S_ig(T2, P2)\n",
    "G2_Ideal = H2_Ideal-T2*S2_Ideal\n",
    "\n",
    "H1_Depart = molecule.ΔH_dep(T1, P1)\n",
    "S1_Depart = molecule.ΔS_dep(T1, P1)\n",
    "G1_Depart = H1_Depart-T1*S1_Depart\n",
    "G1_Depart_Check = molecule.ΔG_dep(T1, P1)\n",
    "\n",
    "#T>371.5 creates error in Antoine routine: \"single positional indexer is out-of-bounds\"\n",
    "T2=371.4\n",
    "\n",
    "H2_Depart = molecule.ΔH_dep(T2, P2)\n",
    "S2_Depart = molecule.ΔS_dep(T2, P2)\n",
    "G2_Depart = H2_Depart-T2*S2_Depart\n",
    "G2_Depart_Check = molecule.ΔG_dep(T2, P2)\n",
    "\n",
    "print('H1_Ideal =',np.round(H1_Ideal/1000,2),'kJ/mol    ','S1_Ideal =  ', np.round(S1_Ideal,3),'J/mol/K    ','G1_Ideal =',np.round(G1_Ideal/1000,2),'kJ/mol')\n",
    "print('H2_Ideal =',np.round(H2_Ideal/1000,2),'kJ/mol    ','S2_Ideal =  ', np.round(S2_Ideal,3),' J/mol/K    ','G2_Ideal =',np.round(G2_Ideal/1000,2),'kJ/mol')\n",
    "print('')\n",
    "print('H1_Depart =   ',np.round(H1_Depart/1000,2),'kJ/mol    ','S1_Depart =', np.round(S1_Depart,3),'J/mol/K    ','G1_Depart =  ',np.round(G1_Depart/1000,2),'kJ/mol')\n",
    "\n",
    "#T>371.5 creates error in Antoine routine: \"single positional indexer is out-of-bounds\"\n",
    "T2=371.4\n",
    "print('H2_Depart = ',np.round(H2_Depart/1000,2),'kJ/mol    ','S2_Depart =  ', np.round(S2_Depart,3),'J/mol/K    ','G2_Depart = ',np.round(G2_Depart/1000,2),'kJ/mol')\n",
    "print('')\n",
    "\n",
    "print('ΔH1_to_2_Ideal =  ',np.round((H2_Ideal-H1_Ideal)/1000,2),'kJ/mol    ','    ΔH1_to_2_Real = ',np.round((H2_Ideal+H2_Depart-H1_Ideal-H1_Depart)/1000,2),'kJ/mol    ',)\n",
    "print('ΔS1_to_2_Ideal =  ',np.round((S2_Ideal-S1_Ideal),1),'J/mol/K    ','   ΔS1_to_2_Real = ',np.round((S2_Ideal+S2_Depart-S1_Ideal-S1_Depart),1),'J/mol/K    ',)\n",
    "print('ΔG1_to_2_Ideal =',np.round((G2_Ideal-G1_Ideal)/1000,2),'kJ/mol    ','   ΔG1_to_2_Real = ',np.round((G2_Ideal+G2_Depart-G1_Ideal-G1_Depart)/1000,2),'kJ/mol    ',)\n"
   ]
  }
 ],
 "metadata": {
  "kernelspec": {
   "display_name": "Python 3 (ipykernel)",
   "language": "python",
   "name": "python3"
  },
  "language_info": {
   "codemirror_mode": {
    "name": "ipython",
    "version": 3
   },
   "file_extension": ".py",
   "mimetype": "text/x-python",
   "name": "python",
   "nbconvert_exporter": "python",
   "pygments_lexer": "ipython3",
   "version": "3.9.15"
  }
 },
 "nbformat": 4,
 "nbformat_minor": 5
}
