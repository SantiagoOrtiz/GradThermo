{
 "cells": [
  {
   "cell_type": "markdown",
   "metadata": {
    "id": "Y11mmk-POcdi"
   },
   "source": [
    "# ChE2101 Project - Part 3\n",
    "\n",
    "Something something danger zone ..."
   ]
  },
  {
   "cell_type": "code",
   "execution_count": 2,
   "metadata": {},
   "outputs": [],
   "source": [
    "import numpy as np\n",
    "import cmath as cm\n",
    "import matplotlib.pyplot as plt"
   ]
  },
  {
   "cell_type": "code",
   "execution_count": 67,
   "metadata": {},
   "outputs": [
    {
     "name": "stdout",
     "output_type": "stream",
     "text": [
      "Difference in G, from U v. A calculations (potential error):  0.0\n",
      "\n",
      "Ideal Gas Thermodynamic values for Chloromethane:\n",
      "Hig: -1544.29 kJ/mol\n",
      "Sig: 242.89 J/(mol*K)\n",
      "Gig: -1592.87 kJ/mol\n"
     ]
    }
   ],
   "source": [
    "# User Prompts: assuming we asked the user which molecule to specify earlier, as well as the T1,P1 and T2,P2 of interest,\n",
    "# then there may not be anything new to specify.  We can pull the statistical mechanics values from the database for the\n",
    "# molecules that we have, or return \"molecule data not in database, choose another\"\n",
    "\n",
    "#for P1,T1 & P2,T2 - we could either create 1&2 copies of the below, or a for loop to run it twice.  \n",
    "#which is preferable?\n",
    "\n",
    "T = 200  #K\n",
    "P = 0.06 #bar\n",
    "P = P*100000 #bar_to_pascals\n",
    "\n",
    "#Constants:\n",
    "Na= 6.02214E+23\n",
    "k = 1.38065E-23\n",
    "R = 8.3144598\n",
    "h = 6.62607E-34\n",
    "\n",
    "Vig = R*T/P #molar m^3\n",
    "\n",
    "#Calling the database: If desired, I'm going to need your help with this part.\n",
    "\n",
    "#For Chloromethane:\n",
    "Ov = np.array([1050,1460,1460,1950,2140,2140,4270,4380,4380]) #K units for vibrational \"activation temperatures\"\n",
    "Or = [0.637,0.637,7.32] #K, rotational\n",
    "Do = 370.7 #kcal/mol, a common unit for these.  Will convert to J/mol in equation by *4184.\n",
    "Wo = 1\n",
    "sig= 3\n",
    "mw = 8.38406E-26 #kg, note the units carefully.  This can be pulled from a databse or calculated from a gram/mol if desired.\n",
    "#    mw = 50.49/1000/Na\n",
    "\n",
    "#And now without further ado, the ideal thermodynamic values:\n",
    "Uvib = (Ov/T)/(np.exp(Ov/T)-1)\n",
    "Uig = 3/2*R*T+3/2*R*T-Do*4184+R*T*np.sum(Uvib)\n",
    "\n",
    "Svib = (Ov/T)/(np.exp(Ov/T)-1) - np.log(1-np.exp(-Ov/T))\n",
    "Sig = R*( np.log( (2*np.pi*mw*k*T/(h**2))**(3/2) * (Vig*np.exp(5/2)/Na)) \n",
    "         + np.log( ((1/sig)*(np.pi*(T**3)*np.exp(3)/(Or[0]*Or[1]*Or[2]))**0.5) ) \n",
    "         + np.log(Wo) + np.sum(Svib) )\n",
    "\n",
    "Cv_vib = ((Ov/T)**2)*(np.exp(Ov/T))/((np.exp(Ov/T)-1)**2)\n",
    "Cv_ig = R*(3/2+3/2+np.sum(Cv_vib))\n",
    "\n",
    "Avib = np.log(1-np.exp(-Ov/T))\n",
    "Aig = -(R*T*np.log( ((2*np.pi*mw*k*T/(h**2))**(3/2))*(Vig*np.exp(1)/Na) )  \n",
    "         +  R*T*np.log( (1/sig)*((np.pi*(T**3)/(Or[0]*Or[1]*Or[2]))**(1/2))) \n",
    "         + Do*4184 - R*T*np.sum(Avib) + np.log(Wo)*R*T)\n",
    "\n",
    "Hig = Uig + P*Vig\n",
    "Gig = Hig - T*Sig\n",
    "Gig_check = (Aig + P*Vig)/Gig-1\n",
    "print('Difference in G, from U v. A calculations (potential error): ',Gig_check) #should equal zero\n",
    "print('')\n",
    "print('Ideal Gas Thermodynamic values for Chloromethane:')\n",
    "print('Hig:',round(Hig/1000,2),'kJ/mol')\n",
    "print('Sig:',round(Sig,2),'J/(mol*K)')\n",
    "print('Gig:',round(Gig/1000,2),'kJ/mol')"
   ]
  },
  {
   "cell_type": "code",
   "execution_count": null,
   "metadata": {},
   "outputs": [],
   "source": []
  }
 ],
 "metadata": {
  "colab": {
   "name": "Homework 1 Basic Python.ipynb",
   "provenance": []
  },
  "kernelspec": {
   "display_name": "Python 3 (ipykernel)",
   "language": "python",
   "name": "python3"
  },
  "language_info": {
   "codemirror_mode": {
    "name": "ipython",
    "version": 3
   },
   "file_extension": ".py",
   "mimetype": "text/x-python",
   "name": "python",
   "nbconvert_exporter": "python",
   "pygments_lexer": "ipython3",
   "version": "3.9.12"
  },
  "org": null
 },
 "nbformat": 4,
 "nbformat_minor": 1
}
