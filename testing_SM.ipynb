{
 "cells": [
  {
   "cell_type": "code",
   "execution_count": 2,
   "id": "0de9a2b9",
   "metadata": {},
   "outputs": [],
   "source": [
    "from src.solving_eos import EOS"
   ]
  },
  {
   "cell_type": "code",
   "execution_count": 3,
   "id": "8caf2406",
   "metadata": {},
   "outputs": [
    {
     "name": "stdout",
     "output_type": "stream",
     "text": [
      "ω =  0.151\n",
      "Pc =  6680000.0\n",
      "Tc =  416.2\n",
      "Or =  [7.32  0.637 0.637]\n",
      "Ov =  [4270. 1950. 1050. 4380. 4380. 2140. 2140. 1460. 1460.]\n"
     ]
    }
   ],
   "source": [
    "molecule = EOS(molecule='CH3Cl')\n",
    "print(\"ω = \", molecule.ω)\n",
    "print(\"Pc = \", molecule.Pc)\n",
    "print(\"Tc = \", molecule.Tc)\n",
    "print(\"Or = \", molecule.Or)\n",
    "print(\"Ov = \", molecule.Ov)"
   ]
  },
  {
   "cell_type": "code",
   "execution_count": 4,
   "id": "6a0d7517",
   "metadata": {},
   "outputs": [
    {
     "data": {
      "text/plain": [
       "234.46818703312118"
      ]
     },
     "execution_count": 4,
     "metadata": {},
     "output_type": "execute_result"
    }
   ],
   "source": [
    "Sig = molecule.S_ig(298.15,100000)\n",
    "Sig"
   ]
  },
  {
   "cell_type": "code",
   "execution_count": 5,
   "id": "d04a1f2c",
   "metadata": {
    "scrolled": true
   },
   "outputs": [
    {
     "data": {
      "text/plain": [
       "-0.19716203388709908"
      ]
     },
     "execution_count": 5,
     "metadata": {},
     "output_type": "execute_result"
    }
   ],
   "source": [
    "Sd = molecule.ΔS_dep(298.15,100000)\n",
    "Sd"
   ]
  },
  {
   "cell_type": "code",
   "execution_count": 6,
   "id": "248dff00",
   "metadata": {},
   "outputs": [
    {
     "data": {
      "text/plain": [
       "0.9996203490324034"
      ]
     },
     "execution_count": 6,
     "metadata": {},
     "output_type": "execute_result"
    }
   ],
   "source": [
    "# per NIST, actual DS value for NH3 at 298.15 K & 1bar is 192.77\n",
    "# https://webbook.nist.gov/cgi/cbook.cgi?ID=C7664417&Units=SI&Mask=1#Thermo-Gas\n",
    "Sr = Sig + Sd\n",
    "Sr/234.36"
   ]
  },
  {
   "cell_type": "code",
   "execution_count": 11,
   "id": "824b5de1",
   "metadata": {},
   "outputs": [
    {
     "name": "stdout",
     "output_type": "stream",
     "text": [
      "-1544293.0191920153 4331.485817731801\n",
      "-1533588.8177521522 205186.4092369484\n",
      "211.55912485907976\n"
     ]
    }
   ],
   "source": [
    "H1d = molecule.ΔH_dep(200, 6000, R=8.3144598)\n",
    "H2d = molecule.ΔH_dep(450, 209000, R=8.3144598)\n",
    "H1i = molecule.H_ig(200, 6000)\n",
    "H2i = molecule.H_ig(450, 209000)\n",
    "print(H1i,H1d)\n",
    "print(H2i,H2d)\n",
    "print((H2i+H2d-H1i-H1d)/1000)"
   ]
  },
  {
   "cell_type": "code",
   "execution_count": 12,
   "id": "1d948207",
   "metadata": {},
   "outputs": [
    {
     "data": {
      "text/plain": [
       "array(0.27649606)"
      ]
     },
     "execution_count": 12,
     "metadata": {},
     "output_type": "execute_result"
    }
   ],
   "source": [
    "molecule.solve_eos(200, 6000, 1.0E-2, R=8.3144598)"
   ]
  },
  {
   "cell_type": "code",
   "execution_count": 14,
   "id": "d6db583e",
   "metadata": {},
   "outputs": [
    {
     "data": {
      "text/plain": [
       "array(-3.89010244e-05)"
      ]
     },
     "execution_count": 14,
     "metadata": {},
     "output_type": "execute_result"
    }
   ],
   "source": [
    "# Guys!!! Heads-up, we are only getting one guess of the system volume!  Either liquid or gas, \n",
    "# or just one of the 3, and I think we need to add logic here to make sure we get the right one\n",
    "#\n",
    "molecule.solve_eos(200, 6000, 1.0E-6, R=8.3144598)"
   ]
  },
  {
   "cell_type": "code",
   "execution_count": null,
   "id": "53e35eca",
   "metadata": {},
   "outputs": [],
   "source": [
    "# ΔS_dep(self, T, P, R=8.3144598)\n",
    "\n",
    "    def ΔH_dep(self, T, P, R=8.3144598):\n",
    "        ʋ = self.solve_eos(T, P)\n",
    "        fʋ = lambda ʋ: T*self.__dPdT(ʋ, T, R) - self.__PengRobinson(ʋ ,T, P, R)\n",
    "        intʋ = quad(fʋ, np.Infinity, ʋ)\n",
    "        ΔH = intʋ[0] + self.__PengRobinson(ʋ, T, P, R)*ʋ - R*T\n",
    "        return ΔH"
   ]
  },
  {
   "cell_type": "code",
   "execution_count": 5,
   "id": "9d9234fa",
   "metadata": {
    "scrolled": true
   },
   "outputs": [
    {
     "data": {
      "text/plain": [
       "-1148080.341654388"
      ]
     },
     "execution_count": 5,
     "metadata": {},
     "output_type": "execute_result"
    }
   ],
   "source": [
    "molecule.H_ig(298.15,100000)"
   ]
  },
  {
   "cell_type": "code",
   "execution_count": 4,
   "id": "ab0e0bd4",
   "metadata": {},
   "outputs": [
    {
     "name": "stdout",
     "output_type": "stream",
     "text": [
      "part2 2.998272\n",
      "242.84562702500725\n"
     ]
    },
    {
     "data": {
      "text/plain": [
       "242.84562702500725"
      ]
     },
     "execution_count": 4,
     "metadata": {},
     "output_type": "execute_result"
    }
   ],
   "source": [
    "P = 0.06 #bar\n",
    "P = P*100000 #bar_to_pascals\n",
    "molecule.S_ig(200, P)\n",
    "\n",
    "2.97022908"
   ]
  },
  {
   "cell_type": "code",
   "execution_count": null,
   "id": "d57330e1",
   "metadata": {},
   "outputs": [],
   "source": []
  },
  {
   "cell_type": "code",
   "execution_count": 5,
   "id": "8d2d2b42",
   "metadata": {},
   "outputs": [
    {
     "name": "stdout",
     "output_type": "stream",
     "text": [
      "0.03861523750751751\n"
     ]
    }
   ],
   "source": [
    "molecule.get__Uvib(200)\n",
    "print(sum(molecule.get__Uvib(200)))"
   ]
  },
  {
   "cell_type": "code",
   "execution_count": 6,
   "id": "ea2b8c18",
   "metadata": {},
   "outputs": [
    {
     "name": "stdout",
     "output_type": "stream",
     "text": [
      "-0.0067162569868200956\n"
     ]
    }
   ],
   "source": [
    "molecule.get__Avib(200)\n",
    "print(sum(molecule.get__Avib(200)))"
   ]
  },
  {
   "cell_type": "code",
   "execution_count": 7,
   "id": "4b2461e1",
   "metadata": {},
   "outputs": [
    {
     "name": "stdout",
     "output_type": "stream",
     "text": [
      "0.22896639698271143\n"
     ]
    }
   ],
   "source": [
    "molecule.get__Cv_vib(200)\n",
    "print(sum(molecule.get__Cv_vib(200)))"
   ]
  },
  {
   "cell_type": "code",
   "execution_count": 8,
   "id": "ac15eae9",
   "metadata": {},
   "outputs": [
    {
     "name": "stdout",
     "output_type": "stream",
     "text": [
      "0.04533149449433759\n"
     ]
    }
   ],
   "source": [
    "molecule.get__Svib(200)\n",
    "print(sum(molecule.get__Svib(200)))"
   ]
  },
  {
   "cell_type": "code",
   "execution_count": 9,
   "id": "0b2da149",
   "metadata": {},
   "outputs": [
    {
     "name": "stdout",
     "output_type": "stream",
     "text": [
      "0.03861523750751751\n"
     ]
    }
   ],
   "source": [
    "molecule.get__Uvib(200)\n",
    "print(sum(molecule.get__Uvib(200)))"
   ]
  }
 ],
 "metadata": {
  "kernelspec": {
   "display_name": "Python 3 (ipykernel)",
   "language": "python",
   "name": "python3"
  },
  "language_info": {
   "codemirror_mode": {
    "name": "ipython",
    "version": 3
   },
   "file_extension": ".py",
   "mimetype": "text/x-python",
   "name": "python",
   "nbconvert_exporter": "python",
   "pygments_lexer": "ipython3",
   "version": "3.9.12"
  }
 },
 "nbformat": 4,
 "nbformat_minor": 5
}
