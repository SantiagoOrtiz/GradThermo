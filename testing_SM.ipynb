{
 "cells": [
  {
   "cell_type": "code",
   "execution_count": 1,
   "id": "0de9a2b9",
   "metadata": {},
   "outputs": [],
   "source": [
    "from src.solving_eos import EOS"
   ]
  },
  {
   "cell_type": "code",
   "execution_count": 2,
   "id": "8caf2406",
   "metadata": {},
   "outputs": [
    {
     "name": "stdout",
     "output_type": "stream",
     "text": [
      "ω =  0.15\n",
      "Pc =  6680000.0\n",
      "Tc =  416.2\n",
      "Or =  [7.32 0.64 0.64]\n",
      "Ov =  [4270. 1950. 1050. 4380. 4380. 2140. 2140. 1460. 1460.]\n"
     ]
    }
   ],
   "source": [
    "molecule = EOS(molecule='CH3Cl')\n",
    "print(\"ω = \", molecule.ω)\n",
    "print(\"Pc = \", molecule.Pc)\n",
    "print(\"Tc = \", molecule.Tc)\n",
    "print(\"Or = \", molecule.Or)\n",
    "print(\"Ov = \", molecule.Ov)"
   ]
  },
  {
   "cell_type": "code",
   "execution_count": 3,
   "id": "8d2d2b42",
   "metadata": {},
   "outputs": [
    {
     "name": "stdout",
     "output_type": "stream",
     "text": [
      "0.03861523750751751\n"
     ]
    }
   ],
   "source": [
    "molecule.get__Uvib(200)\n",
    "print(sum(molecule.get__Uvib(200)))"
   ]
  },
  {
   "cell_type": "code",
   "execution_count": 4,
   "id": "ea2b8c18",
   "metadata": {},
   "outputs": [
    {
     "name": "stdout",
     "output_type": "stream",
     "text": [
      "-0.0067162569868200956\n"
     ]
    }
   ],
   "source": [
    "molecule.get__Avib(200)\n",
    "print(sum(molecule.get__Avib(200)))"
   ]
  },
  {
   "cell_type": "code",
   "execution_count": 5,
   "id": "4b2461e1",
   "metadata": {},
   "outputs": [
    {
     "name": "stdout",
     "output_type": "stream",
     "text": [
      "0.22896639698271143\n"
     ]
    }
   ],
   "source": [
    "molecule.get__Cv_vib(200)\n",
    "print(sum(molecule.get__Cv_vib(200)))"
   ]
  },
  {
   "cell_type": "code",
   "execution_count": 6,
   "id": "ac15eae9",
   "metadata": {},
   "outputs": [
    {
     "name": "stdout",
     "output_type": "stream",
     "text": [
      "0.04533149449433759\n"
     ]
    }
   ],
   "source": [
    "molecule.get__Svib(200)\n",
    "print(sum(molecule.get__Svib(200)))"
   ]
  },
  {
   "cell_type": "code",
   "execution_count": 7,
   "id": "0b2da149",
   "metadata": {},
   "outputs": [
    {
     "name": "stdout",
     "output_type": "stream",
     "text": [
      "0.03861523750751751\n"
     ]
    }
   ],
   "source": [
    "molecule.get__Uvib(200)\n",
    "print(sum(molecule.get__Uvib(200)))"
   ]
  }
 ],
 "metadata": {
  "kernelspec": {
   "display_name": "Python 3 (ipykernel)",
   "language": "python",
   "name": "python3"
  },
  "language_info": {
   "codemirror_mode": {
    "name": "ipython",
    "version": 3
   },
   "file_extension": ".py",
   "mimetype": "text/x-python",
   "name": "python",
   "nbconvert_exporter": "python",
   "pygments_lexer": "ipython3",
   "version": "3.9.12"
  }
 },
 "nbformat": 4,
 "nbformat_minor": 5
}
