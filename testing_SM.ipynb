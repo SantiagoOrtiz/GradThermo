{
 "cells": [
  {
   "cell_type": "code",
   "execution_count": 1,
   "id": "0de9a2b9",
   "metadata": {},
   "outputs": [],
   "source": [
    "from src.solving_eos import EOS"
   ]
  },
  {
   "cell_type": "code",
   "execution_count": 2,
   "id": "8caf2406",
   "metadata": {},
   "outputs": [
    {
     "name": "stdout",
     "output_type": "stream",
     "text": [
      "ω =  0.255\n",
      "Pc =  11277000.0\n",
      "Tc =  405.55\n",
      "Or =  [13.6  13.6   8.92]\n",
      "Ov =  [4800. 1360. 4880. 4880. 2330. 2330.]\n"
     ]
    }
   ],
   "source": [
    "molecule = EOS(molecule='NH3')\n",
    "print(\"ω = \", molecule.ω)\n",
    "print(\"Pc = \", molecule.Pc)\n",
    "print(\"Tc = \", molecule.Tc)\n",
    "print(\"Or = \", molecule.Or)\n",
    "print(\"Ov = \", molecule.Ov)"
   ]
  },
  {
   "cell_type": "code",
   "execution_count": 7,
   "id": "6a0d7517",
   "metadata": {},
   "outputs": [
    {
     "data": {
      "text/plain": [
       "193.11575271741432"
      ]
     },
     "execution_count": 7,
     "metadata": {},
     "output_type": "execute_result"
    }
   ],
   "source": [
    "Sig = molecule.S_ig(298.15,100000)\n",
    "Sig"
   ]
  },
  {
   "cell_type": "code",
   "execution_count": 8,
   "id": "d21acc60",
   "metadata": {
    "scrolled": true
   },
   "outputs": [
    {
     "data": {
      "text/plain": [
       "-0.12196523593974513"
      ]
     },
     "execution_count": 8,
     "metadata": {},
     "output_type": "execute_result"
    }
   ],
   "source": [
    "Sd = molecule.ΔS_dep(298.15,100000)\n",
    "Sd"
   ]
  },
  {
   "cell_type": "code",
   "execution_count": 11,
   "id": "f5f3e336",
   "metadata": {},
   "outputs": [
    {
     "data": {
      "text/plain": [
       "1.001160904090235"
      ]
     },
     "execution_count": 11,
     "metadata": {},
     "output_type": "execute_result"
    }
   ],
   "source": [
    "# per NIST, actual DS value for NH3 at 298.15 K & 1bar is 192.77\n",
    "# https://webbook.nist.gov/cgi/cbook.cgi?ID=C7664417&Units=SI&Mask=1#Thermo-Gas\n",
    "Sr = Sig + Sd\n",
    "Sr/192.77"
   ]
  },
  {
   "cell_type": "code",
   "execution_count": null,
   "id": "58aa7487",
   "metadata": {},
   "outputs": [],
   "source": [
    "# ΔS_dep(self, T, P, R=8.3144598)\n",
    "\n",
    "#     def S_ig(self, T, P, h=6.62607E-34, k=1.38065E-23, Na=6.02214E+23, R=8.3144598):\n",
    "#         mw = self.mw; Or = self.Or; sig = self.sig; Wo = self.Wo\n",
    "#         vig = self.ʋ_ig(T, P, R)\n",
    "#         svib = self.__Svib(T)\n",
    "#         Sig = R*( np.log( (2*np.pi*mw*k*T/(h**2))**(3/2) * (vig*np.exp(5/2)/Na))\n",
    "#                  + np.log( ((1/sig)*(np.pi*(T**3)*np.exp(3)/(Or[0]*Or[1]*Or[2]))**0.5) ) \n",
    "#                  + np.log(Wo) + np.sum(svib) )\n",
    "#         return Sig"
   ]
  },
  {
   "cell_type": "code",
   "execution_count": 5,
   "id": "cf693dbe",
   "metadata": {
    "scrolled": true
   },
   "outputs": [
    {
     "data": {
      "text/plain": [
       "-1148080.341654388"
      ]
     },
     "execution_count": 5,
     "metadata": {},
     "output_type": "execute_result"
    }
   ],
   "source": [
    "molecule.H_ig(298.15,100000)"
   ]
  },
  {
   "cell_type": "code",
   "execution_count": 4,
   "id": "ab0e0bd4",
   "metadata": {},
   "outputs": [
    {
     "name": "stdout",
     "output_type": "stream",
     "text": [
      "part2 2.998272\n",
      "242.84562702500725\n"
     ]
    },
    {
     "data": {
      "text/plain": [
       "242.84562702500725"
      ]
     },
     "execution_count": 4,
     "metadata": {},
     "output_type": "execute_result"
    }
   ],
   "source": [
    "P = 0.06 #bar\n",
    "P = P*100000 #bar_to_pascals\n",
    "molecule.S_ig(200, P)\n",
    "\n",
    "2.97022908"
   ]
  },
  {
   "cell_type": "code",
   "execution_count": null,
   "id": "eba02d3a",
   "metadata": {},
   "outputs": [],
   "source": []
  },
  {
   "cell_type": "code",
   "execution_count": 5,
   "id": "8d2d2b42",
   "metadata": {},
   "outputs": [
    {
     "name": "stdout",
     "output_type": "stream",
     "text": [
      "0.03861523750751751\n"
     ]
    }
   ],
   "source": [
    "molecule.get__Uvib(200)\n",
    "print(sum(molecule.get__Uvib(200)))"
   ]
  },
  {
   "cell_type": "code",
   "execution_count": 6,
   "id": "ea2b8c18",
   "metadata": {},
   "outputs": [
    {
     "name": "stdout",
     "output_type": "stream",
     "text": [
      "-0.0067162569868200956\n"
     ]
    }
   ],
   "source": [
    "molecule.get__Avib(200)\n",
    "print(sum(molecule.get__Avib(200)))"
   ]
  },
  {
   "cell_type": "code",
   "execution_count": 7,
   "id": "4b2461e1",
   "metadata": {},
   "outputs": [
    {
     "name": "stdout",
     "output_type": "stream",
     "text": [
      "0.22896639698271143\n"
     ]
    }
   ],
   "source": [
    "molecule.get__Cv_vib(200)\n",
    "print(sum(molecule.get__Cv_vib(200)))"
   ]
  },
  {
   "cell_type": "code",
   "execution_count": 8,
   "id": "ac15eae9",
   "metadata": {},
   "outputs": [
    {
     "name": "stdout",
     "output_type": "stream",
     "text": [
      "0.04533149449433759\n"
     ]
    }
   ],
   "source": [
    "molecule.get__Svib(200)\n",
    "print(sum(molecule.get__Svib(200)))"
   ]
  },
  {
   "cell_type": "code",
   "execution_count": 9,
   "id": "0b2da149",
   "metadata": {},
   "outputs": [
    {
     "name": "stdout",
     "output_type": "stream",
     "text": [
      "0.03861523750751751\n"
     ]
    }
   ],
   "source": [
    "molecule.get__Uvib(200)\n",
    "print(sum(molecule.get__Uvib(200)))"
   ]
  }
 ],
 "metadata": {
  "kernelspec": {
   "display_name": "Python 3 (ipykernel)",
   "language": "python",
   "name": "python3"
  },
  "language_info": {
   "codemirror_mode": {
    "name": "ipython",
    "version": 3
   },
   "file_extension": ".py",
   "mimetype": "text/x-python",
   "name": "python",
   "nbconvert_exporter": "python",
   "pygments_lexer": "ipython3",
   "version": "3.9.12"
  }
 },
 "nbformat": 4,
 "nbformat_minor": 5
}
