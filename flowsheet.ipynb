{
 "cells": [
  {
   "cell_type": "code",
   "execution_count": 1,
   "id": "0de9a2b9",
   "metadata": {},
   "outputs": [],
   "source": [
    "from src.solving_eos import EOS"
   ]
  },
  {
   "cell_type": "code",
   "execution_count": 2,
   "id": "8caf2406",
   "metadata": {},
   "outputs": [
    {
     "name": "stdout",
     "output_type": "stream",
     "text": [
      "Type chemical formula: NH3\n",
      "ω =  0.255\n",
      "Pc =  11277000.0\n",
      "Tc =  405.55\n",
      "             T1      T2        A         B       C\n",
      "molecule                                          \n",
      "NH3       164.0  239.60  3.18757   506.713 -80.780\n",
      "NH3       239.6  405.55  4.86886  1113.928 -10.409\n"
     ]
    }
   ],
   "source": [
    "# 0. Prompt user to create a new molecule object\n",
    "M = input('Type chemical formula: ')\n",
    "molecule = EOS(molecule=M)\n",
    "print(\"ω = \", molecule.ω)\n",
    "print(\"Pc = \", molecule.Pc)\n",
    "print(\"Tc = \", molecule.Tc)\n",
    "print(molecule.antoineq)"
   ]
  },
  {
   "cell_type": "code",
   "execution_count": 3,
   "id": "33ccc5c2",
   "metadata": {
    "scrolled": true
   },
   "outputs": [
    {
     "name": "stdout",
     "output_type": "stream",
     "text": [
      "Molar volume calculations: Enter Temperature [K] and Pressure [bar] for state 1 and state 2 accordingly.\n",
      "T1 [K] = 200\n",
      "P1 [bar] = 0.06\n",
      "T2 [K] = 450\n",
      "P2 [bar] = 0.09\n",
      "Some of the given T and P values lie outside (>) the range of critical conditions: Tc=405.55 & Pc=11277000.0\n",
      "\n",
      "\n",
      "The molar volume calculated at T1=200.0 K and P1=0.06 bar is 0.2768 [m^3/mol]\n",
      "The molar volume calculated at T2=450.0 K and P2=0.09 bar is 0.4156 [m^3/mol]\n"
     ]
    }
   ],
   "source": [
    "# 1. Use the Peng-Robinson EOS to compute the liquid and vapor volumes \n",
    "# (if applicable) for any pressure, and temperature. Your code should \n",
    "# prompt the user to choose between vapor/liquid roots.\n",
    "print('Molar volume calculations: Enter Temperature [K] and Pressure [bar] for state 1 and state 2 accordingly.')\n",
    "T1 = float(input('T1 [K] = '))\n",
    "P1 = float(input('P1 [bar] = '))*1E5\n",
    "T2 = float(input('T2 [K] = '))\n",
    "P2 = float(input('P2 [bar] = '))*1E5\n",
    "#T1 = 200; T2 = 450\n",
    "#P1 = 0.06E5; P2 = 2.09E5\n",
    "v1, v2 = molecule.solve_eos([T1, T2], [P1, P2])\n",
    "print(\"\\n\")\n",
    "print(f\"The molar volume calculated at T1={T1} K and P1={P1/1E5} bar is {round(v1, 4)} [m^3/mol]\")\n",
    "print(f\"The molar volume calculated at T2={T2} K and P2={P2/1E5} bar is {round(v2, 4)} [m^3/mol]\")"
   ]
  },
  {
   "cell_type": "code",
   "execution_count": 4,
   "id": "f48679b6",
   "metadata": {},
   "outputs": [
    {
     "name": "stdout",
     "output_type": "stream",
     "text": [
      "Some of the given T and P values lie outside (>) the range of critical conditions: Tc=405.55 & Pc=11277000.0\n",
      "Some of the given T and P values lie outside (>) the range of critical conditions: Tc=405.55 & Pc=11277000.0\n",
      "Some of the given T and P values lie outside (>) the range of critical conditions: Tc=405.55 & Pc=11277000.0\n",
      "Some of the given T and P values lie outside (>) the range of critical conditions: Tc=405.55 & Pc=11277000.0\n",
      "Some of the given T and P values lie outside (>) the range of critical conditions: Tc=405.55 & Pc=11277000.0\n"
     ]
    },
    {
     "data": {
      "image/png": "[encoded data removed]",
      "text/plain": [
       "<Figure size 640x480 with 1 Axes>"
      ]
     },
     "metadata": {},
     "output_type": "display_data"
    }
   ],
   "source": [
    "import numpy as np\n",
    "import matplotlib.pyplot as plt\n",
    "T = np.linspace(T1, T2, 25)\n",
    "plt.plot(T, molecule.antoine(T), color='black'); plt.scatter([T1, T2], [P1, P2], color='red')\n",
    "plt.text(T1, P1, \"state 1\", color='blue'); plt.text(T2, P2, \"state 2\", color='blue')\n",
    "plt.xlabel(\"T, [K]\"); plt.ylabel(\"P_vap, [bar]\")\n",
    "plt.title(\"Vapor Pressure - Antoine Equation\"); plt.show()"
   ]
  },
  {
   "cell_type": "code",
   "execution_count": 5,
   "id": "1a516a60",
   "metadata": {},
   "outputs": [
    {
     "name": "stdout",
     "output_type": "stream",
     "text": [
      "\n",
      "Departure functions for STATE 1:\n",
      "T1 [K] = 450\n",
      "P1 [bar] = 0.06\n",
      "Enter phase conditions of state 1: gas\n",
      "ΔH1_dep (gas) = -1.78 kJ/mol\n",
      "ΔS1_dep (gas) = -0.0 J/(mol K)\n",
      "ΔG1_dep (gas) = -0.54 kJ/mol \n",
      "\n",
      "\n",
      "Departure functions for STATE 2:\n",
      "T2 [K] = 200\n",
      "P2 [bar] = 0.09\n",
      "Enter phase conditions of state 2: liquid\n",
      "ΔH2_dep (liquid) = -25398.48 kJ/mol\n",
      "ΔS2_dep (liquid) = -126.39 J/(mol K)\n",
      "ΔG2_dep (liquid) = -121.4 kJ/mol \n",
      "\n"
     ]
    }
   ],
   "source": [
    "# 2. Compute departure functions (the change between a real, and ideal gas) for H, S, G.\n",
    "print(f\"\\nDeparture functions for STATE 1:\")\n",
    "T1 = float(input('T1 [K] = '))\n",
    "P1 = float(input('P1 [bar] = '))*1E5\n",
    "phase1 = input(\"Enter phase conditions of state 1: \")\n",
    "\n",
    "ΔH1_dep = molecule.ΔH_dep(T1, P1, phase=phase1)\n",
    "ΔS1_dep = molecule.ΔS_dep(T1, P1, phase=phase1)\n",
    "ΔG1_dep = molecule.ΔG_dep(T1, P1, phase=phase1)\n",
    "print(f\"ΔH1_dep ({phase1}) = {round(ΔH1_dep, 2)} kJ/mol\")\n",
    "print(f\"ΔS1_dep ({phase1}) = {round(ΔS1_dep, 2)} J/(mol K)\")\n",
    "print(f\"ΔG1_dep ({phase1}) = {round(ΔG1_dep, 2)} kJ/mol \\n\")\n",
    "\n",
    "print(f\"\\nDeparture functions for STATE 2:\")\n",
    "T2 = float(input('T2 [K] = '))\n",
    "P2 = float(input('P2 [bar] = '))*1E5\n",
    "phase2 = input(\"Enter phase conditions of state 2: \")\n",
    "ΔH2_dep = molecule.ΔH_dep(T2, P2, phase=phase2)\n",
    "ΔS2_dep = molecule.ΔS_dep(T2, P2, phase=phase2)\n",
    "ΔG2_dep = molecule.ΔG_dep(T2, P2, phase=phase2)\n",
    "print(f\"ΔH2_dep ({phase2}) = {round(ΔH2_dep, 2)} kJ/mol\")\n",
    "print(f\"ΔS2_dep ({phase2}) = {round(ΔS2_dep, 2)} J/(mol K)\")\n",
    "print(f\"ΔG2_dep ({phase2}) = {round(ΔG2_dep, 2)} kJ/mol \\n\")"
   ]
  },
  {
   "cell_type": "code",
   "execution_count": 6,
   "id": "f43fb0a2",
   "metadata": {},
   "outputs": [
    {
     "name": "stdout",
     "output_type": "stream",
     "text": [
      "\n",
      "Ideal gas calculation:\n",
      "T1 [K] = 450\n",
      "P1 [bar] = 0.06\n",
      "H1 (ideal) = -1142.36 kJ/mol\n",
      "S1 (ideal) = 231.94 J/(mol K)\n",
      "G1 (ideal) = -1246.74 kJ/mol \n",
      "\n"
     ]
    }
   ],
   "source": [
    "# 3. Calculate H, S, G for the ideal gas from statistical mechanics equations provided below.\n",
    "# These depend on molecular properties such as vibrational and rotational constants, \n",
    "# the number of atoms, and linearity.\n",
    "\n",
    "print(f\"\\nIdeal gas calculation:\")\n",
    "T1 = float(input('T1 [K] = '))\n",
    "P1 = float(input('P1 [bar] = '))*1E5\n",
    "H1_Ideal = molecule.H_ig(T1, P1)\n",
    "S1_Ideal = molecule.S_ig(T1, P1)\n",
    "G1_Ideal = molecule.G_ig(T1,P1)\n",
    "print(f\"H1 (ideal) = {round(H1_Ideal/1000, 2)} kJ/mol\")\n",
    "print(f\"S1 (ideal) = {round(S1_Ideal, 2)} J/(mol K)\")\n",
    "print(f\"G1 (ideal) = {round(G1_Ideal/1000, 2)} kJ/mol \\n\")"
   ]
  },
  {
   "cell_type": "code",
   "execution_count": 8,
   "id": "44739a11",
   "metadata": {},
   "outputs": [
    {
     "name": "stdout",
     "output_type": "stream",
     "text": [
      "Δ for real process from STATE 1 to STATE 2\n",
      "\n",
      "T1 [K] = 200\n",
      "P1 [bar] = 0.06\n",
      "Enter phase conditions of state 1: liquid\n",
      "T2 [K] = 450\n",
      "P2 [bar] = 0.09\n",
      "Enter phase conditions of state 2: gas\n",
      "\n",
      "ΔH 1-->2 (real) = 34.5 kJ/mol\n",
      "ΔS 1-->2 (real) = 155.57 J/(mol K)\n",
      "ΔG 1-->2 (real) = -53.76 kJ/mol\n"
     ]
    }
   ],
   "source": [
    "# 4. Determine ΔH, ΔS, ΔG, for a real and ideal process from (P1, T1) to (P2, T2).\n",
    "print(\"Δ for real process from STATE 1 to STATE 2\\n\")\n",
    "T1 = float(input('T1 [K] = '))\n",
    "P1 = float(input('P1 [bar] = '))*1E5\n",
    "phase1 = input(\"Enter phase conditions of state 1: \")\n",
    "\n",
    "T2 = float(input('T2 [K] = '))\n",
    "P2 = float(input('P2 [bar] = '))*1E5\n",
    "phase2 = input(\"Enter phase conditions of state 2: \")\n",
    "\n",
    "ΔH_real = molecule.ΔH_real([T1, T2], [P1, P2], phase=[phase1, phase2])/1000\n",
    "ΔS_real = molecule.ΔS_real([T1, T2], [P1, P2], phase=[phase1, phase2])\n",
    "ΔG_real = molecule.ΔG_real([T1, T2], [P1, P2], phase=[phase1, phase2])/1000\n",
    "\n",
    "print(f\"\\nΔH 1-->2 (real) = {round(ΔH_real, 2)} kJ/mol\")\n",
    "print(f\"ΔS 1-->2 (real) = {round(ΔS_real, 2)} J/(mol K)\")\n",
    "print(f\"ΔG 1-->2 (real) = {round(ΔG_real, 2)} kJ/mol\")"
   ]
  },
  {
   "cell_type": "code",
   "execution_count": null,
   "id": "7365318e",
   "metadata": {},
   "outputs": [],
   "source": []
  }
 ],
 "metadata": {
  "kernelspec": {
   "display_name": "Python 3 (ipykernel)",
   "language": "python",
   "name": "python3"
  },
  "language_info": {
   "codemirror_mode": {
    "name": "ipython",
    "version": 3
   },
   "file_extension": ".py",
   "mimetype": "text/x-python",
   "name": "python",
   "nbconvert_exporter": "python",
   "pygments_lexer": "ipython3",
   "version": "3.9.12"
  }
 },
 "nbformat": 4,
 "nbformat_minor": 5
}
