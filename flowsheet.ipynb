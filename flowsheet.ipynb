{
 "cells": [
  {
   "cell_type": "code",
   "execution_count": 6,
   "id": "7ab4c28d",
   "metadata": {},
   "outputs": [],
   "source": [
    "from src.solving_eos import EOS"
   ]
  },
  {
   "cell_type": "code",
   "execution_count": 2,
   "id": "fb5602b7",
   "metadata": {
    "scrolled": true
   },
   "outputs": [
    {
     "name": "stdout",
     "output_type": "stream",
     "text": [
      "ω =  0.15\n",
      "Pc =  6680000.0\n",
      "Tc =  416.2\n",
      "Or =  [7.32 0.64 0.64]\n",
      "Ov =  [4270. 1950. 1050. 4380. 4380. 2140. 2140. 1460. 1460.]\n"
     ]
    },
    {
     "data": {
      "text/plain": [
       "array(0.00113712)"
      ]
     },
     "execution_count": 2,
     "metadata": {},
     "output_type": "execute_result"
    }
   ],
   "source": [
    "NH3 = EOS(molecule='CH3Cl')\n",
    "print(\"ω = \", NH3.ω)\n",
    "print(\"Pc = \", NH3.Pc)\n",
    "print(\"Tc = \", NH3.Tc)\n",
    "print(\"Or = \", NH3.Or)\n",
    "print(\"Ov = \", NH3.Ov)\n",
    "\n",
    "ʋmol = NH3.solve_eos(350, 20.0E5)\n",
    "ʋmol"
   ]
  },
  {
   "cell_type": "code",
   "execution_count": 7,
   "id": "e4c48e1a",
   "metadata": {},
   "outputs": [
    {
     "data": {
      "text/plain": [
       "array([0.001137  , 0.00116291])"
      ]
     },
     "execution_count": 7,
     "metadata": {},
     "output_type": "execute_result"
    }
   ],
   "source": [
    "ʋmol = NH3.solve_eos([350, 360], [20.0E5, 20.5E5])\n",
    "ʋmol"
   ]
  },
  {
   "cell_type": "code",
   "execution_count": 9,
   "id": "e27f10e9",
   "metadata": {},
   "outputs": [
    {
     "ename": "AttributeError",
     "evalue": "'EOS' object has no attribute '_EOS__ʋ_ig'",
     "output_type": "error",
     "traceback": [
      "\u001b[1;31m---------------------------------------------------------------------------\u001b[0m",
      "\u001b[1;31mAttributeError\u001b[0m                            Traceback (most recent call last)",
      "Input \u001b[1;32mIn [9]\u001b[0m, in \u001b[0;36m<cell line: 1>\u001b[1;34m()\u001b[0m\n\u001b[1;32m----> 1\u001b[0m \u001b[43mNH3\u001b[49m\u001b[38;5;241;43m.\u001b[39;49m\u001b[43mcheck_SMEq\u001b[49m\u001b[43m(\u001b[49m\u001b[38;5;241;43m200\u001b[39;49m\u001b[43m,\u001b[49m\u001b[38;5;241;43m6000\u001b[39;49m\u001b[43m)\u001b[49m\n",
      "File \u001b[1;32m~\\OneDrive\\Documents\\GitHub\\GradThermo\\src\\solving_eos.py:167\u001b[0m, in \u001b[0;36mEOS.check_SMEq\u001b[1;34m(self, T, P)\u001b[0m\n\u001b[0;32m    166\u001b[0m \u001b[38;5;28;01mdef\u001b[39;00m \u001b[38;5;21mcheck_SMEq\u001b[39m(\u001b[38;5;28mself\u001b[39m, T, P):\n\u001b[1;32m--> 167\u001b[0m     Gig_check \u001b[38;5;241m=\u001b[39m (\u001b[38;5;28mself\u001b[39m\u001b[38;5;241m.\u001b[39mA_ig(T, P) \u001b[38;5;241m+\u001b[39m P\u001b[38;5;241m*\u001b[39m\u001b[38;5;28mself\u001b[39m\u001b[38;5;241m.\u001b[39mʋ_ig(T, P))\u001b[38;5;241m/\u001b[39m\u001b[38;5;28;43mself\u001b[39;49m\u001b[38;5;241;43m.\u001b[39;49m\u001b[43mG_ig\u001b[49m\u001b[43m(\u001b[49m\u001b[43mT\u001b[49m\u001b[43m,\u001b[49m\u001b[43m \u001b[49m\u001b[43mP\u001b[49m\u001b[43m)\u001b[49m\u001b[38;5;241m-\u001b[39m\u001b[38;5;241m1\u001b[39m\n\u001b[0;32m    168\u001b[0m     \u001b[38;5;28mprint\u001b[39m(\u001b[38;5;124m'\u001b[39m\u001b[38;5;124mDifference in G, from U v. A calculations (potential error): \u001b[39m\u001b[38;5;124m'\u001b[39m,Gig_check) \u001b[38;5;66;03m#should equal zero\u001b[39;00m\n\u001b[0;32m    169\u001b[0m     \u001b[38;5;28mprint\u001b[39m(\u001b[38;5;124m'\u001b[39m\u001b[38;5;124m'\u001b[39m)\n",
      "File \u001b[1;32m~\\OneDrive\\Documents\\GitHub\\GradThermo\\src\\solving_eos.py:163\u001b[0m, in \u001b[0;36mEOS.G_ig\u001b[1;34m(self, T, P, R)\u001b[0m\n\u001b[0;32m    162\u001b[0m \u001b[38;5;28;01mdef\u001b[39;00m \u001b[38;5;21mG_ig\u001b[39m(\u001b[38;5;28mself\u001b[39m, T, P, R\u001b[38;5;241m=\u001b[39m\u001b[38;5;241m8.3144598\u001b[39m):\n\u001b[1;32m--> 163\u001b[0m     Gig \u001b[38;5;241m=\u001b[39m \u001b[38;5;28;43mself\u001b[39;49m\u001b[38;5;241;43m.\u001b[39;49m\u001b[43mH_ig\u001b[49m\u001b[43m(\u001b[49m\u001b[43mP\u001b[49m\u001b[43m,\u001b[49m\u001b[43m \u001b[49m\u001b[43mR\u001b[49m\u001b[43m)\u001b[49m \u001b[38;5;241m-\u001b[39m T\u001b[38;5;241m*\u001b[39m\u001b[38;5;28mself\u001b[39m\u001b[38;5;241m.\u001b[39mS_ig(T, P)\n\u001b[0;32m    164\u001b[0m     \u001b[38;5;28;01mreturn\u001b[39;00m Gig\n",
      "File \u001b[1;32m~\\OneDrive\\Documents\\GitHub\\GradThermo\\src\\solving_eos.py:159\u001b[0m, in \u001b[0;36mEOS.H_ig\u001b[1;34m(self, T, P, R)\u001b[0m\n\u001b[0;32m    158\u001b[0m \u001b[38;5;28;01mdef\u001b[39;00m \u001b[38;5;21mH_ig\u001b[39m(\u001b[38;5;28mself\u001b[39m, T, P, R\u001b[38;5;241m=\u001b[39m\u001b[38;5;241m8.3144598\u001b[39m):\n\u001b[1;32m--> 159\u001b[0m     Hig \u001b[38;5;241m=\u001b[39m \u001b[38;5;28mself\u001b[39m\u001b[38;5;241m.\u001b[39mU_ig(T, R) \u001b[38;5;241m+\u001b[39m P\u001b[38;5;241m*\u001b[39m\u001b[38;5;28;43mself\u001b[39;49m\u001b[38;5;241;43m.\u001b[39;49m\u001b[43m__ʋ_ig\u001b[49m(T, P, R)\n\u001b[0;32m    160\u001b[0m     \u001b[38;5;28;01mreturn\u001b[39;00m Hig\n",
      "\u001b[1;31mAttributeError\u001b[0m: 'EOS' object has no attribute '_EOS__ʋ_ig'"
     ]
    }
   ],
   "source": [
    "NH3.check_SMEq(200,6000)"
   ]
  },
  {
   "cell_type": "code",
   "execution_count": null,
   "id": "23b9123b",
   "metadata": {},
   "outputs": [],
   "source": []
  },
  {
   "cell_type": "code",
   "execution_count": 4,
   "id": "537c429c",
   "metadata": {},
   "outputs": [
    {
     "name": "stdout",
     "output_type": "stream",
     "text": [
      "min error -3.818422555923462e-08\n",
      "max error 2.584420144557953e-08\n"
     ]
    },
    {
     "data": {
      "text/plain": [
       "array([[0.00121915, 0.00128267, 0.00134284, 0.00140042, 0.00145593,\n",
       "        0.00150972, 0.00156207, 0.00161321, 0.00166328, 0.00171243],\n",
       "       [0.00117612, 0.00123974, 0.00129973, 0.00135695, 0.00141198,\n",
       "        0.00146521, 0.00151695, 0.00156742, 0.00161679, 0.00166522],\n",
       "       [0.00113461, 0.00119845, 0.00125835, 0.00131528, 0.00136989,\n",
       "        0.00142262, 0.00147379, 0.00152364, 0.00157236, 0.0016201 ],\n",
       "       [0.00109445, 0.00115866, 0.00121857, 0.00127529, 0.00132954,\n",
       "        0.00138181, 0.00143246, 0.00148173, 0.00152984, 0.00157694],\n",
       "       [0.00105551, 0.00112025, 0.00118026, 0.00123684, 0.0012908 ,\n",
       "        0.00134267, 0.00139283, 0.00144158, 0.00148911, 0.00153561],\n",
       "       [0.00101763, 0.0010831 , 0.00114333, 0.00119984, 0.00125356,\n",
       "        0.00130507, 0.0013548 , 0.00140306, 0.00145006, 0.00149598],\n",
       "       [0.00098067, 0.00104708, 0.00110765, 0.00116418, 0.00121772,\n",
       "        0.00126893, 0.00131827, 0.00136606, 0.00141257, 0.00145796],\n",
       "       [0.00094448, 0.00101208, 0.00107313, 0.00112976, 0.00118318,\n",
       "        0.00123414, 0.00128313, 0.00133051, 0.00137654, 0.00142144],\n",
       "       [0.00090888, 0.000978  , 0.00103967, 0.0010965 , 0.00114987,\n",
       "        0.00120061, 0.00124929, 0.0012963 , 0.0013419 , 0.00138632],\n",
       "       [0.00087367, 0.00094471, 0.00100719, 0.0010643 , 0.00111769,\n",
       "        0.00116828, 0.00121669, 0.00126335, 0.00130855, 0.00135254],\n",
       "       [0.00083861, 0.0009121 , 0.00097558, 0.0010331 , 0.00108657,\n",
       "        0.00113705, 0.00118524, 0.00123159, 0.00127642, 0.00132   ],\n",
       "       [0.00080338, 0.00088003, 0.00094477, 0.00100282, 0.00105644,\n",
       "        0.00110687, 0.00115487, 0.00120094, 0.00124544, 0.00128863],\n",
       "       [0.0007675 , 0.00084835, 0.00091466, 0.00097337, 0.00102723,\n",
       "        0.00107766, 0.00112552, 0.00117135, 0.00121554, 0.00125838],\n",
       "       [0.00073024, 0.0008169 , 0.00088516, 0.0009447 , 0.00099888,\n",
       "        0.00104937, 0.00109712, 0.00114275, 0.00118667, 0.00122917],\n",
       "       [0.00069013, 0.00078544, 0.00085617, 0.00091672, 0.00097133,\n",
       "        0.00102194, 0.00106963, 0.00111508, 0.00115875, 0.00120095]])"
      ]
     },
     "execution_count": 4,
     "metadata": {},
     "output_type": "execute_result"
    }
   ],
   "source": [
    "import numpy as np\n",
    "T = np.linspace(300, 360, 10)\n",
    "P = np.linspace(15.0E5, 20.0E5, 15)\n",
    "T, P = np.meshgrid(T, P)\n",
    "ʋmol = NH3.solve_eos(T, P)\n",
    "pr = NH3.get__PengRobinson()\n",
    "print(\"min error\", np.min(pr(ʋmol, T, P)))\n",
    "print(\"max error\", np.max(pr(ʋmol, T, P)))\n",
    "ʋmol"
   ]
  },
  {
   "cell_type": "code",
   "execution_count": 5,
   "id": "8de8ffdf",
   "metadata": {},
   "outputs": [
    {
     "name": "stderr",
     "output_type": "stream",
     "text": [
      "C:\\Users\\srks9\\OneDrive\\Documents\\GitHub\\GradThermo\\src\\solving_eos.py:106: IntegrationWarning: The integral is probably divergent, or slowly convergent.\n",
      "  intʋ = quad(fʋ, np.Infinity, ʋ)\n"
     ]
    },
    {
     "data": {
      "text/plain": [
       "148984.0393373305"
      ]
     },
     "execution_count": 5,
     "metadata": {},
     "output_type": "execute_result"
    }
   ],
   "source": [
    "NH3.ΔG_real([200,450], [0.06E5, 2.09E5])"
   ]
  },
  {
   "cell_type": "code",
   "execution_count": null,
   "id": "14ca41bd",
   "metadata": {},
   "outputs": [],
   "source": []
  }
 ],
 "metadata": {
  "kernelspec": {
   "display_name": "Python 3 (ipykernel)",
   "language": "python",
   "name": "python3"
  },
  "language_info": {
   "codemirror_mode": {
    "name": "ipython",
    "version": 3
   },
   "file_extension": ".py",
   "mimetype": "text/x-python",
   "name": "python",
   "nbconvert_exporter": "python",
   "pygments_lexer": "ipython3",
   "version": "3.9.12"
  }
 },
 "nbformat": 4,
 "nbformat_minor": 5
}
