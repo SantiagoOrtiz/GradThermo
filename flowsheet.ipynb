{
 "cells": [
  {
   "cell_type": "code",
   "execution_count": 1,
   "id": "0de9a2b9",
   "metadata": {},
   "outputs": [],
   "source": [
    "from src.solving_eos import EOS"
   ]
  },
  {
   "cell_type": "code",
   "execution_count": 2,
   "id": "8caf2406",
   "metadata": {},
   "outputs": [
    {
     "name": "stdout",
     "output_type": "stream",
     "text": [
      "Type chemical formula: CH3Cl\n",
      "ω =  0.151\n",
      "Pc =  6680000.0\n",
      "Tc =  416.2\n",
      "             T1     T2        A         B       C\n",
      "molecule                                         \n",
      "CH3Cl     198.0  300.0  4.22507   951.561 -23.468\n",
      "CH3Cl     300.0  416.3  4.91858  1427.529  45.137\n"
     ]
    }
   ],
   "source": [
    "# 0. Prompt user to create a new molecule object\n",
    "M = input('Type chemical formula: ')\n",
    "molecule = EOS(molecule=M)\n",
    "print(\"ω = \", molecule.ω)\n",
    "print(\"Pc = \", molecule.Pc)\n",
    "print(\"Tc = \", molecule.Tc)\n",
    "print(molecule.antoineq)"
   ]
  },
  {
   "cell_type": "code",
   "execution_count": 3,
   "id": "33ccc5c2",
   "metadata": {
    "scrolled": true
   },
   "outputs": [
    {
     "name": "stdout",
     "output_type": "stream",
     "text": [
      "Molar volume calculations: Enter Temperature [K] and Pressure [bar] for state 1 and state 2 accordingly.\n",
      "T1 [K] = 200\n",
      "P1 [bar] = 0.06\n",
      "T2 [K] = 450\n",
      "P2 [bar] = 2.09\n",
      "Some of the given T and P values lie outside (>) the range of critical conditions: Tc=416.2 & Pc=6680000.0\n",
      "\n",
      "\n",
      "The molar volume calculated at T1=200.0 K and P1=0.06 bar is 0.2765 [m^3/mol]\n",
      "The molar volume calculated at T2=450.0 K and P2=2.09 bar is 0.0177 [m^3/mol]\n"
     ]
    }
   ],
   "source": [
    "# 1. Use the Peng-Robinson EOS to compute the liquid and vapor volumes \n",
    "# (if applicable) for any pressure, and temperature. Your code should \n",
    "# prompt the user to choose between vapor/liquid roots.\n",
    "print('Molar volume calculations: Enter Temperature [K] and Pressure [bar] for state 1 and state 2 accordingly.')\n",
    "T1 = float(input('T1 [K] = '))\n",
    "P1 = float(input('P1 [bar] = '))*1E5\n",
    "T2 = float(input('T2 [K] = '))\n",
    "P2 = float(input('P2 [bar] = '))*1E5\n",
    "#T1 = 200; T2 = 450\n",
    "#P1 = 0.06E5; P2 = 2.09E5\n",
    "v1, v2 = molecule.solve_eos([T1, T2], [P1, P2])\n",
    "print(\"\\n\")\n",
    "print(f\"The molar volume calculated at T1={T1} K and P1={P1/1E5} bar is {round(v1, 4)} [m^3/mol]\")\n",
    "print(f\"The molar volume calculated at T2={T2} K and P2={P2/1E5} bar is {round(v2, 4)} [m^3/mol]\")"
   ]
  },
  {
   "cell_type": "code",
   "execution_count": 4,
   "id": "f48679b6",
   "metadata": {},
   "outputs": [
    {
     "name": "stdout",
     "output_type": "stream",
     "text": [
      "Some of the given T and P values lie outside (>) the range of critical conditions: Tc=416.2 & Pc=6680000.0\n",
      "Some of the given T and P values lie outside (>) the range of critical conditions: Tc=416.2 & Pc=6680000.0\n",
      "Some of the given T and P values lie outside (>) the range of critical conditions: Tc=416.2 & Pc=6680000.0\n",
      "Some of the given T and P values lie outside (>) the range of critical conditions: Tc=416.2 & Pc=6680000.0\n"
     ]
    },
    {
     "data": {
      "image/png": "[encoded data removed]",
      "text/plain": [
       "<Figure size 640x480 with 1 Axes>"
      ]
     },
     "metadata": {},
     "output_type": "display_data"
    }
   ],
   "source": [
    "import numpy as np\n",
    "import matplotlib.pyplot as plt\n",
    "T = np.linspace(T1, T2, 25)\n",
    "plt.plot(T, molecule.antoine(T), color='black'); plt.scatter([T1, T2], [P1, P2], color='red')\n",
    "plt.text(T1, P1, \"state 1\", color='blue'); plt.text(T2, P2, \"state 2\", color='blue')\n",
    "plt.xlabel(\"T, [K]\"); plt.ylabel(\"P_vap, [bar]\")\n",
    "plt.title(\"Vapor Pressure - Antoine Equation\"); plt.show()"
   ]
  },
  {
   "cell_type": "code",
   "execution_count": 5,
   "id": "1a516a60",
   "metadata": {},
   "outputs": [
    {
     "name": "stdout",
     "output_type": "stream",
     "text": [
      "\n",
      "Departure functions for STATE 1:\n",
      "T1 [K] = 200\n",
      "P1 [bar] = 0.06\n",
      "Enter phase conditions of state 1: 450\n"
     ]
    },
    {
     "ename": "Exception",
     "evalue": "phase argument only allows 'liquid' or 'gas'",
     "output_type": "error",
     "traceback": [
      "\u001b[1;31m---------------------------------------------------------------------------\u001b[0m",
      "\u001b[1;31mException\u001b[0m                                 Traceback (most recent call last)",
      "Cell \u001b[1;32mIn[5], line 7\u001b[0m\n\u001b[0;32m      4\u001b[0m P1 \u001b[38;5;241m=\u001b[39m \u001b[38;5;28mfloat\u001b[39m(\u001b[38;5;28minput\u001b[39m(\u001b[38;5;124m'\u001b[39m\u001b[38;5;124mP1 [bar] = \u001b[39m\u001b[38;5;124m'\u001b[39m))\u001b[38;5;241m*\u001b[39m\u001b[38;5;241m1E5\u001b[39m\n\u001b[0;32m      5\u001b[0m phase1 \u001b[38;5;241m=\u001b[39m \u001b[38;5;28minput\u001b[39m(\u001b[38;5;124m\"\u001b[39m\u001b[38;5;124mEnter phase conditions of state 1: \u001b[39m\u001b[38;5;124m\"\u001b[39m)\n\u001b[1;32m----> 7\u001b[0m ΔH1_dep \u001b[38;5;241m=\u001b[39m \u001b[43mmolecule\u001b[49m\u001b[38;5;241;43m.\u001b[39;49m\u001b[43mΔH_dep\u001b[49m\u001b[43m(\u001b[49m\u001b[43mT1\u001b[49m\u001b[43m,\u001b[49m\u001b[43m \u001b[49m\u001b[43mP1\u001b[49m\u001b[43m,\u001b[49m\u001b[43m \u001b[49m\u001b[43mphase\u001b[49m\u001b[38;5;241;43m=\u001b[39;49m\u001b[43mphase1\u001b[49m\u001b[43m)\u001b[49m\n\u001b[0;32m      8\u001b[0m ΔS1_dep \u001b[38;5;241m=\u001b[39m molecule\u001b[38;5;241m.\u001b[39mΔS_dep(T1, P1, phase\u001b[38;5;241m=\u001b[39mphase1)\n\u001b[0;32m      9\u001b[0m ΔG1_dep \u001b[38;5;241m=\u001b[39m molecule\u001b[38;5;241m.\u001b[39mΔG_dep(T1, P1, phase\u001b[38;5;241m=\u001b[39mphase1)\n",
      "File \u001b[1;32m~\\OneDrive\\Documents\\GitHub\\GradThermo\\src\\solving_eos.py:141\u001b[0m, in \u001b[0;36mEOS.ΔH_dep\u001b[1;34m(self, T, P, R, phase)\u001b[0m\n\u001b[0;32m    140\u001b[0m \u001b[38;5;28;01mdef\u001b[39;00m \u001b[38;5;21mΔH_dep\u001b[39m(\u001b[38;5;28mself\u001b[39m, T, P, R\u001b[38;5;241m=\u001b[39m\u001b[38;5;241m8.3144598\u001b[39m, phase\u001b[38;5;241m=\u001b[39m\u001b[38;5;28;01mNone\u001b[39;00m):\n\u001b[1;32m--> 141\u001b[0m     vmol1 \u001b[38;5;241m=\u001b[39m \u001b[38;5;28;43mself\u001b[39;49m\u001b[38;5;241;43m.\u001b[39;49m\u001b[43msolve_eos\u001b[49m\u001b[43m(\u001b[49m\u001b[43mT\u001b[49m\u001b[43m,\u001b[49m\u001b[43mP\u001b[49m\u001b[43m,\u001b[49m\u001b[43m \u001b[49m\u001b[43mphase\u001b[49m\u001b[38;5;241;43m=\u001b[39;49m\u001b[43mphase\u001b[49m\u001b[43m)\u001b[49m\n\u001b[0;32m    142\u001b[0m     b \u001b[38;5;241m=\u001b[39m \u001b[38;5;28mself\u001b[39m\u001b[38;5;241m.\u001b[39mget__b()\n\u001b[0;32m    143\u001b[0m     a \u001b[38;5;241m=\u001b[39m \u001b[38;5;28mself\u001b[39m\u001b[38;5;241m.\u001b[39mget__a()\n",
      "File \u001b[1;32m~\\OneDrive\\Documents\\GitHub\\GradThermo\\src\\solving_eos.py:121\u001b[0m, in \u001b[0;36mEOS.solve_eos\u001b[1;34m(self, T_, P_, phase, R)\u001b[0m\n\u001b[0;32m    119\u001b[0m         v0 \u001b[38;5;241m=\u001b[39m (R\u001b[38;5;241m*\u001b[39mT\u001b[38;5;241m/\u001b[39mP)\n\u001b[0;32m    120\u001b[0m     \u001b[38;5;28;01melse\u001b[39;00m:\n\u001b[1;32m--> 121\u001b[0m         \u001b[38;5;28;01mraise\u001b[39;00m \u001b[38;5;167;01mException\u001b[39;00m(\u001b[38;5;124m\"\u001b[39m\u001b[38;5;124mphase argument only allows \u001b[39m\u001b[38;5;124m'\u001b[39m\u001b[38;5;124mliquid\u001b[39m\u001b[38;5;124m'\u001b[39m\u001b[38;5;124m or \u001b[39m\u001b[38;5;124m'\u001b[39m\u001b[38;5;124mgas\u001b[39m\u001b[38;5;124m'\u001b[39m\u001b[38;5;124m\"\u001b[39m)\n\u001b[0;32m    122\u001b[0m \u001b[38;5;28;01melse\u001b[39;00m:           \n\u001b[0;32m    123\u001b[0m     Pv \u001b[38;5;241m=\u001b[39m \u001b[38;5;28mself\u001b[39m\u001b[38;5;241m.\u001b[39mantoine(T, P)\n",
      "\u001b[1;31mException\u001b[0m: phase argument only allows 'liquid' or 'gas'"
     ]
    }
   ],
   "source": [
    "# 2. Compute departure functions (the change between a real, and ideal gas) for H, S, G.\n",
    "print(f\"\\nDeparture functions for STATE 1:\")\n",
    "T1 = float(input('T1 [K] = '))\n",
    "P1 = float(input('P1 [bar] = '))*1E5\n",
    "phase1 = input(\"Enter phase conditions of state 1: \")\n",
    "\n",
    "ΔH1_dep = molecule.ΔH_dep(T1, P1, phase=phase1)\n",
    "ΔS1_dep = molecule.ΔS_dep(T1, P1, phase=phase1)\n",
    "ΔG1_dep = molecule.ΔG_dep(T1, P1, phase=phase1)\n",
    "print(f\"ΔH1_dep ({phase1}) = {round(ΔH1_dep, 2)} kJ/mol\")\n",
    "print(f\"ΔS1_dep ({phase1}) = {round(ΔS1_dep, 2)} J/(mol K)\")\n",
    "print(f\"ΔG1_dep ({phase1}) = {round(ΔG1_dep, 2)} kJ/mol \\n\")\n",
    "\n",
    "print(f\"\\nDeparture functions for STATE 2:\")\n",
    "T2 = float(input('T2 [K] = '))\n",
    "P2 = float(input('P2 [bar] = '))*1E5\n",
    "phase2 = input(\"Enter phase conditions of state 2: \")\n",
    "ΔH2_dep = molecule.ΔH_dep(T2, P2, phase=phase2)\n",
    "ΔS2_dep = molecule.ΔS_dep(T2, P2, phase=phase2)\n",
    "ΔG2_dep = molecule.ΔG_dep(T2, P2, phase=phase2)\n",
    "print(f\"ΔH2_dep ({phase2}) = {round(ΔH2_dep, 2)} kJ/mol\")\n",
    "print(f\"ΔS2_dep ({phase2}) = {round(ΔS2_dep, 2)} J/(mol K)\")\n",
    "print(f\"ΔG2_dep ({phase2}) = {round(ΔG2_dep, 2)} kJ/mol \\n\")"
   ]
  },
  {
   "cell_type": "code",
   "execution_count": null,
   "id": "f43fb0a2",
   "metadata": {},
   "outputs": [],
   "source": [
    "# 3. Calculate H, S, G for the ideal gas from statistical mechanics equations provided below.\n",
    "# These depend on molecular properties such as vibrational and rotational constants, \n",
    "# the number of atoms, and linearity.\n",
    "\n",
    "print(f\"\\nIdeal gas calculation:\")\n",
    "T1 = float(input('T1 [K] = '))\n",
    "P1 = float(input('P1 [bar] = '))*1E5\n",
    "H1_Ideal = molecule.H_ig(T1, P1)\n",
    "S1_Ideal = molecule.S_ig(T1, P1)\n",
    "G1_Ideal = molecule.G_ig(T1,P1)\n",
    "print(f\"H1 (ideal) = {round(H1_Ideal/1000, 2)} kJ/mol\")\n",
    "print(f\"S1 (ideal) = {round(S1_Ideal, 2)} J/(mol K)\")\n",
    "print(f\"G1 (ideal) = {round(G1_Ideal/1000, 2)} kJ/mol \\n\")\n",
    "\n",
    "T2 = float(input('T1 [K] = '))\n",
    "P2 = float(input('P1 [bar] = '))*1E5\n",
    "H2_Ideal = molecule.H_ig(T2, P2)\n",
    "S2_Ideal = molecule.S_ig(T2, P2)\n",
    "G2_Ideal = molecule.G_ig(T2,P2)\n",
    "print(f\"H1 (ideal) = {round(H2_Ideal/1000, 2)} kJ/mol\")\n",
    "print(f\"S1 (ideal) = {round(S2_Ideal, 2)} J/(mol K)\")\n",
    "print(f\"G1 (ideal) = {round(G2_Ideal/1000, 2)} kJ/mol \\n\")"
   ]
  },
  {
   "cell_type": "code",
   "execution_count": null,
   "id": "44739a11",
   "metadata": {},
   "outputs": [],
   "source": [
    "# 4. Determine ΔH, ΔS, ΔG, for a real and ideal process from (P1, T1) to (P2, T2).\n",
    "print(\"Δ for real process from STATE 1 to STATE 2\\n\")\n",
    "T1 = float(input('T1 [K] = '))\n",
    "P1 = float(input('P1 [bar] = '))*1E5\n",
    "phase1 = input(\"Enter phase conditions of state 1: \")\n",
    "\n",
    "T2 = float(input('T2 [K] = '))\n",
    "P2 = float(input('P2 [bar] = '))*1E5\n",
    "phase2 = input(\"Enter phase conditions of state 2: \")\n",
    "\n",
    "ΔH_real = molecule.ΔH_real([T1, T2], [P1, P2], phase=[phase1, phase2])/1000\n",
    "ΔS_real = molecule.ΔS_real([T1, T2], [P1, P2], phase=[phase1, phase2])\n",
    "ΔG_real = molecule.ΔG_real([T1, T2], [P1, P2], phase=[phase1, phase2])/1000\n",
    "\n",
    "print(f\"\\nΔH 1-->2 (real) = {round(ΔH_real, 2)} kJ/mol\")\n",
    "print(f\"ΔS 1-->2 (real) = {round(ΔS_real, 2)} J/(mol K)\")\n",
    "print(f\"ΔG 1-->2 (real) = {round(ΔG_real, 2)} kJ/mol\")"
   ]
  },
  {
   "cell_type": "code",
   "execution_count": null,
   "id": "7365318e",
   "metadata": {},
   "outputs": [],
   "source": []
  }
 ],
 "metadata": {
  "kernelspec": {
   "display_name": "Python 3 (ipykernel)",
   "language": "python",
   "name": "python3"
  },
  "language_info": {
   "codemirror_mode": {
    "name": "ipython",
    "version": 3
   },
   "file_extension": ".py",
   "mimetype": "text/x-python",
   "name": "python",
   "nbconvert_exporter": "python",
   "pygments_lexer": "ipython3",
   "version": "3.10.9"
  }
 },
 "nbformat": 4,
 "nbformat_minor": 5
}
