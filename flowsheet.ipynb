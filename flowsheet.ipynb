{
 "cells": [
  {
   "cell_type": "code",
   "execution_count": 1,
   "id": "7ab4c28d",
   "metadata": {},
   "outputs": [],
   "source": [
    "from src.solving_eos import EOS"
   ]
  },
  {
   "cell_type": "code",
   "execution_count": 2,
   "id": "fb5602b7",
   "metadata": {
    "scrolled": true
   },
   "outputs": [
    {
     "name": "stdout",
     "output_type": "stream",
     "text": [
      "ω =  0.26\n",
      "Pc =  11277000.0\n",
      "Tc =  405.55\n",
      "Or =  [13.6  13.6   8.92]\n",
      "Ov =  [4800. 1360. 4880. 4880. 2330. 2330.]\n"
     ]
    },
    {
     "data": {
      "text/plain": [
       "array(0.00129013)"
      ]
     },
     "execution_count": 2,
     "metadata": {},
     "output_type": "execute_result"
    }
   ],
   "source": [
    "NH3 = EOS(molecule='NH3')\n",
    "print(\"ω = \", NH3.ω)\n",
    "print(\"Pc = \", NH3.Pc)\n",
    "print(\"Tc = \", NH3.Tc)\n",
    "print(\"Or = \", NH3.Or)\n",
    "print(\"Ov = \", NH3.Ov)\n",
    "\n",
    "ʋmol = NH3.solve_eos(350, 20.0E5)\n",
    "ʋmol"
   ]
  },
  {
   "cell_type": "code",
   "execution_count": 3,
   "id": "e4c48e1a",
   "metadata": {},
   "outputs": [
    {
     "data": {
      "text/plain": [
       "array([0.00129013, 0.00130522])"
      ]
     },
     "execution_count": 3,
     "metadata": {},
     "output_type": "execute_result"
    }
   ],
   "source": [
    "ʋmol = NH3.solve_eos([350, 360], [20.0E5, 20.5E5])\n",
    "ʋmol"
   ]
  },
  {
   "cell_type": "code",
   "execution_count": 4,
   "id": "537c429c",
   "metadata": {},
   "outputs": [
    {
     "ename": "TypeError",
     "evalue": "__PengRobinson() missing 1 required positional argument: 'R'",
     "output_type": "error",
     "traceback": [
      "\u001b[1;31m---------------------------------------------------------------------------\u001b[0m",
      "\u001b[1;31mTypeError\u001b[0m                                 Traceback (most recent call last)",
      "\u001b[1;32m~\\AppData\\Local\\Temp\\ipykernel_24968\\2427803155.py\u001b[0m in \u001b[0;36m<module>\u001b[1;34m\u001b[0m\n\u001b[0;32m      5\u001b[0m \u001b[0mʋmol\u001b[0m \u001b[1;33m=\u001b[0m \u001b[0mNH3\u001b[0m\u001b[1;33m.\u001b[0m\u001b[0msolve_eos\u001b[0m\u001b[1;33m(\u001b[0m\u001b[0mT\u001b[0m\u001b[1;33m,\u001b[0m \u001b[0mP\u001b[0m\u001b[1;33m)\u001b[0m\u001b[1;33m\u001b[0m\u001b[1;33m\u001b[0m\u001b[0m\n\u001b[0;32m      6\u001b[0m \u001b[0mpr\u001b[0m \u001b[1;33m=\u001b[0m \u001b[0mNH3\u001b[0m\u001b[1;33m.\u001b[0m\u001b[0mget__PengRobinson\u001b[0m\u001b[1;33m(\u001b[0m\u001b[1;33m)\u001b[0m\u001b[1;33m\u001b[0m\u001b[1;33m\u001b[0m\u001b[0m\n\u001b[1;32m----> 7\u001b[1;33m \u001b[0mprint\u001b[0m\u001b[1;33m(\u001b[0m\u001b[1;34m\"min error\"\u001b[0m\u001b[1;33m,\u001b[0m \u001b[0mnp\u001b[0m\u001b[1;33m.\u001b[0m\u001b[0mmin\u001b[0m\u001b[1;33m(\u001b[0m\u001b[0mpr\u001b[0m\u001b[1;33m(\u001b[0m\u001b[0mʋmol\u001b[0m\u001b[1;33m,\u001b[0m \u001b[0mT\u001b[0m\u001b[1;33m,\u001b[0m \u001b[0mP\u001b[0m\u001b[1;33m)\u001b[0m\u001b[1;33m)\u001b[0m\u001b[1;33m)\u001b[0m\u001b[1;33m\u001b[0m\u001b[1;33m\u001b[0m\u001b[0m\n\u001b[0m\u001b[0;32m      8\u001b[0m \u001b[0mprint\u001b[0m\u001b[1;33m(\u001b[0m\u001b[1;34m\"max error\"\u001b[0m\u001b[1;33m,\u001b[0m \u001b[0mnp\u001b[0m\u001b[1;33m.\u001b[0m\u001b[0mmax\u001b[0m\u001b[1;33m(\u001b[0m\u001b[0mpr\u001b[0m\u001b[1;33m(\u001b[0m\u001b[0mʋmol\u001b[0m\u001b[1;33m,\u001b[0m \u001b[0mT\u001b[0m\u001b[1;33m,\u001b[0m \u001b[0mP\u001b[0m\u001b[1;33m)\u001b[0m\u001b[1;33m)\u001b[0m\u001b[1;33m)\u001b[0m\u001b[1;33m\u001b[0m\u001b[1;33m\u001b[0m\u001b[0m\n\u001b[0;32m      9\u001b[0m \u001b[0mʋmol\u001b[0m\u001b[1;33m\u001b[0m\u001b[1;33m\u001b[0m\u001b[0m\n",
      "\u001b[1;32m~\\OneDrive\\University of Pittsburgh\\Course Load\\2023 Spring\\CHE 2101 - Fundamentals of Thermodynamics\\Class Project\\GradThermo\\src\\solving_eos.py\u001b[0m in \u001b[0;36m<lambda>\u001b[1;34m(ʋ, T, P)\u001b[0m\n\u001b[0;32m    207\u001b[0m \u001b[1;33m\u001b[0m\u001b[0m\n\u001b[0;32m    208\u001b[0m     \u001b[1;32mdef\u001b[0m \u001b[0mget__PengRobinson\u001b[0m\u001b[1;33m(\u001b[0m\u001b[0mself\u001b[0m\u001b[1;33m)\u001b[0m\u001b[1;33m:\u001b[0m\u001b[1;33m\u001b[0m\u001b[1;33m\u001b[0m\u001b[0m\n\u001b[1;32m--> 209\u001b[1;33m         \u001b[0mpeng_robinson\u001b[0m \u001b[1;33m=\u001b[0m \u001b[1;32mlambda\u001b[0m \u001b[0mʋ\u001b[0m\u001b[1;33m,\u001b[0m \u001b[0mT\u001b[0m\u001b[1;33m,\u001b[0m \u001b[0mP\u001b[0m\u001b[1;33m:\u001b[0m \u001b[0mself\u001b[0m\u001b[1;33m.\u001b[0m\u001b[0m__PengRobinson\u001b[0m\u001b[1;33m(\u001b[0m\u001b[0mʋ\u001b[0m\u001b[1;33m,\u001b[0m \u001b[0mT\u001b[0m\u001b[1;33m,\u001b[0m \u001b[0mP\u001b[0m\u001b[1;33m)\u001b[0m\u001b[1;33m\u001b[0m\u001b[1;33m\u001b[0m\u001b[0m\n\u001b[0m\u001b[0;32m    210\u001b[0m         \u001b[1;32mreturn\u001b[0m \u001b[0mpeng_robinson\u001b[0m\u001b[1;33m\u001b[0m\u001b[1;33m\u001b[0m\u001b[0m\n",
      "\u001b[1;31mTypeError\u001b[0m: __PengRobinson() missing 1 required positional argument: 'R'"
     ]
    }
   ],
   "source": [
    "import numpy as np\n",
    "T = np.linspace(300, 360, 10)\n",
    "P = np.linspace(15.0E5, 20.0E5, 15)\n",
    "T, P = np.meshgrid(T, P)\n",
    "ʋmol = NH3.solve_eos(T, P)\n",
    "pr = NH3.get__PengRobinson()\n",
    "print(\"min error\", np.min(pr(ʋmol, T, P)))\n",
    "print(\"max error\", np.max(pr(ʋmol, T, P)))\n",
    "ʋmol"
   ]
  },
  {
   "cell_type": "code",
   "execution_count": null,
   "id": "8de8ffdf",
   "metadata": {},
   "outputs": [],
   "source": [
    "NH3.ΔS_dep(350, 20.0E5)"
   ]
  }
 ],
 "metadata": {
  "kernelspec": {
   "display_name": "Python 3 (ipykernel)",
   "language": "python",
   "name": "python3"
  },
  "language_info": {
   "codemirror_mode": {
    "name": "ipython",
    "version": 3
   },
   "file_extension": ".py",
   "mimetype": "text/x-python",
   "name": "python",
   "nbconvert_exporter": "python",
   "pygments_lexer": "ipython3",
   "version": "3.9.12"
  }
 },
 "nbformat": 4,
 "nbformat_minor": 5
}
