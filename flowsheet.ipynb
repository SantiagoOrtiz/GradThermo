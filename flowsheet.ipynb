{
 "cells": [
  {
   "cell_type": "code",
   "execution_count": 1,
   "id": "7ab4c28d",
   "metadata": {},
   "outputs": [],
   "source": [
    "from src.solving_eos import EOS"
   ]
  },
  {
   "cell_type": "code",
   "execution_count": 2,
   "id": "fb5602b7",
   "metadata": {},
   "outputs": [
    {
     "name": "stdout",
     "output_type": "stream",
     "text": [
      "ω =  0.255\n",
      "Pc =  11277000.0\n",
      "Tc =  405.55\n"
     ]
    },
    {
     "data": {
      "text/plain": [
       "array([0.00129034])"
      ]
     },
     "execution_count": 2,
     "metadata": {},
     "output_type": "execute_result"
    }
   ],
   "source": [
    "NH3 = EOS(molecule='NH3')\n",
    "print(\"ω = \", NH3.ω)\n",
    "print(\"Pc = \", NH3.Pc)\n",
    "print(\"Tc = \", NH3.Tc)\n",
    "\n",
    "ʋmol = NH3.solve_eos(350, 20.0E5)\n",
    "ʋmol"
   ]
  },
  {
   "cell_type": "code",
   "execution_count": 3,
   "id": "e4c48e1a",
   "metadata": {},
   "outputs": [
    {
     "data": {
      "text/plain": [
       "array([0.])"
      ]
     },
     "execution_count": 3,
     "metadata": {},
     "output_type": "execute_result"
    }
   ],
   "source": [
    "pr = NH3.get__PengRobinson()\n",
    "pr(ʋmol, 350, 20.0E5)"
   ]
  }
 ],
 "metadata": {
  "kernelspec": {
   "display_name": "Python 3 (ipykernel)",
   "language": "python",
   "name": "python3"
  },
  "language_info": {
   "codemirror_mode": {
    "name": "ipython",
    "version": 3
   },
   "file_extension": ".py",
   "mimetype": "text/x-python",
   "name": "python",
   "nbconvert_exporter": "python",
   "pygments_lexer": "ipython3",
   "version": "3.9.15"
  }
 },
 "nbformat": 4,
 "nbformat_minor": 5
}
