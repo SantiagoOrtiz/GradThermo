{
 "cells": [
  {
   "cell_type": "code",
   "execution_count": 1,
   "id": "0de9a2b9",
   "metadata": {},
   "outputs": [],
   "source": [
    "from src.solving_eos import EOS"
   ]
  },
  {
   "cell_type": "code",
   "execution_count": 2,
   "id": "8caf2406",
   "metadata": {},
   "outputs": [
    {
     "name": "stdout",
     "output_type": "stream",
     "text": [
      "ω =  0.255\n",
      "Pc =  11277000.0\n",
      "Tc =  405.55\n",
      "Or =  [13.6  13.6   8.92]\n",
      "Ov =  [4800. 1360. 4880. 4880. 2330. 2330.]\n",
      "             T1     T2       A         B       C\n",
      "molecule                                        \n",
      "NH3       164.0  239.6  3.1876   506.713 -80.780\n",
      "NH3       239.6  371.5  4.8689  1113.928 -10.409\n"
     ]
    }
   ],
   "source": [
    "molecule = EOS(molecule='NH3')\n",
    "print(\"ω = \", molecule.ω)\n",
    "print(\"Pc = \", molecule.Pc)\n",
    "print(\"Tc = \", molecule.Tc)\n",
    "print(\"Or = \", molecule.Or)\n",
    "print(\"Ov = \", molecule.Ov)\n",
    "print(molecule.antoineq)"
   ]
  },
  {
   "cell_type": "code",
   "execution_count": 3,
   "id": "33ccc5c2",
   "metadata": {},
   "outputs": [
    {
     "data": {
      "text/plain": [
       "array([2.76756494e-01, 2.66610999e-05])"
      ]
     },
     "execution_count": 3,
     "metadata": {},
     "output_type": "execute_result"
    }
   ],
   "source": [
    "T1 = [200, 200]\n",
    "P1 = [6000, 9000]\n",
    "molecule.solve_eos(T1, P1)"
   ]
  },
  {
   "cell_type": "code",
   "execution_count": 4,
   "id": "f48679b6",
   "metadata": {},
   "outputs": [
    {
     "data": {
      "text/plain": [
       "<matplotlib.collections.PathCollection at 0x1cc940b6fd0>"
      ]
     },
     "execution_count": 4,
     "metadata": {},
     "output_type": "execute_result"
    },
    {
     "data": {
      "image/png": "[encoded data removed]",
      "text/plain": [
       "<Figure size 640x480 with 1 Axes>"
      ]
     },
     "metadata": {},
     "output_type": "display_data"
    }
   ],
   "source": [
    "import numpy as np\n",
    "import matplotlib.pyplot as plt\n",
    "T = np.linspace(190, 210, 100)\n",
    "\n",
    "molecule.antoine(T)\n",
    "plt.plot(T, molecule.antoine(T))\n",
    "plt.scatter(T1, P1)"
   ]
  },
  {
   "cell_type": "code",
   "execution_count": 5,
   "id": "1a516a60",
   "metadata": {},
   "outputs": [
    {
     "data": {
      "text/plain": [
       "array([0.23716375])"
      ]
     },
     "execution_count": 5,
     "metadata": {},
     "output_type": "execute_result"
    }
   ],
   "source": [
    "molecule.solve_eos([200], [7000])"
   ]
  },
  {
   "cell_type": "code",
   "execution_count": 6,
   "id": "db72a2bc",
   "metadata": {},
   "outputs": [
    {
     "name": "stdout",
     "output_type": "stream",
     "text": [
      "H1_Ideal = -1151.47 kJ/mol     S1_Ideal =   202.756 J/mol/K     G1_Ideal = -1192.02 kJ/mol\n",
      "H2_Ideal = -1142.36 kJ/mol     S2_Ideal =   202.42  J/mol/K     G2_Ideal = -1233.45 kJ/mol\n",
      "\n",
      "H1_Depart =    -25.4 kJ/mol     S1_Depart = -129.757 J/mol/K     G1_Depart =   0.55 kJ/mol\n",
      "H2_Depart =  -0.06 kJ/mol     S2_Depart =   -0.097 J/mol/K     G2_Depart =  -0.02 kJ/mol\n",
      "\n",
      "ΔH1_to_2_Ideal =   9.1 kJ/mol         ΔH1_to_2_Real =  34.44 kJ/mol    \n",
      "ΔS1_to_2_Ideal =   -0.3 J/mol/K        ΔS1_to_2_Real =  129.3 J/mol/K    \n",
      "ΔG1_to_2_Ideal = -41.44 kJ/mol        ΔG1_to_2_Real =  -42.01 kJ/mol    \n"
     ]
    }
   ],
   "source": [
    "#Deliverables in Summary Format:\n",
    "T1 = 200     #Kelvin\n",
    "P1 = 6000    #Pascals\n",
    "\n",
    "T2 = 450     #Kelvin\n",
    "P2 = 209000  #Pascals\n",
    "\n",
    "H1_Ideal = molecule.H_ig(T1, P1)\n",
    "S1_Ideal = molecule.S_ig(T1, P1)\n",
    "G1_Ideal = molecule.G_ig(T1,P1)\n",
    "\n",
    "H2_Ideal = molecule.H_ig(T2, P2)\n",
    "S2_Ideal = molecule.S_ig(T2, P2)\n",
    "G2_Ideal = molecule.G_ig(T2,P2)\n",
    "\n",
    "H1_Depart = molecule.ΔH_dep(T1, P1, phase='liquid')\n",
    "S1_Depart = molecule.ΔS_dep(T1, P1, phase='liquid')\n",
    "G1_Depart = molecule.ΔG_dep(T1, P1, phase='liquid')\n",
    "\n",
    "#T>371.5 creates error in Antoine routine: \"single positional indexer is out-of-bounds\"\n",
    "#T2=371.4\n",
    "\n",
    "H2_Depart = molecule.ΔH_dep(T2, P2, phase='liquid')\n",
    "S2_Depart = molecule.ΔS_dep(T2, P2, phase='liquid')\n",
    "G2_Depart = molecule.ΔG_dep(T2, P2, phase='liquid')\n",
    "#G2_Depart_Check = molecule.ΔG_dep(T2, P2)\n",
    "\n",
    "print('H1_Ideal =',np.round(H1_Ideal/1000,2),'kJ/mol    ','S1_Ideal =  ', np.round(S1_Ideal,3),'J/mol/K    ','G1_Ideal =',np.round(G1_Ideal/1000,2),'kJ/mol')\n",
    "print('H2_Ideal =',np.round(H2_Ideal/1000,2),'kJ/mol    ','S2_Ideal =  ', np.round(S2_Ideal,3),' J/mol/K    ','G2_Ideal =',np.round(G2_Ideal/1000,2),'kJ/mol')\n",
    "print('')\n",
    "print('H1_Depart =   ',np.round(H1_Depart/1000,2),'kJ/mol    ','S1_Depart =', np.round(S1_Depart,3),'J/mol/K    ','G1_Depart =  ',np.round(G1_Depart/1000,2),'kJ/mol')\n",
    "\n",
    "#T>371.5 creates error in Antoine routine: \"single positional indexer is out-of-bounds\"\n",
    "#T2=371.4\n",
    "print('H2_Depart = ',np.round(H2_Depart/1000,2),'kJ/mol    ','S2_Depart =  ', np.round(S2_Depart,3),'J/mol/K    ','G2_Depart = ',np.round(G2_Depart/1000,2),'kJ/mol')\n",
    "print('')\n",
    "\n",
    "print('ΔH1_to_2_Ideal =  ',np.round((H2_Ideal-H1_Ideal)/1000,2),'kJ/mol    ','    ΔH1_to_2_Real = ',np.round((H2_Ideal+H2_Depart-H1_Ideal-H1_Depart)/1000,2),'kJ/mol    ',)\n",
    "print('ΔS1_to_2_Ideal =  ',np.round((S2_Ideal-S1_Ideal),1),'J/mol/K    ','   ΔS1_to_2_Real = ',np.round((S2_Ideal+S2_Depart-S1_Ideal-S1_Depart),1),'J/mol/K    ',)\n",
    "print('ΔG1_to_2_Ideal =',np.round((G2_Ideal-G1_Ideal)/1000,2),'kJ/mol    ','   ΔG1_to_2_Real = ',np.round((G2_Ideal+G2_Depart-G1_Ideal-G1_Depart)/1000,2),'kJ/mol    ',)\n"
   ]
  },
  {
   "cell_type": "code",
   "execution_count": 7,
   "id": "44bf4a94",
   "metadata": {},
   "outputs": [
    {
     "name": "stdout",
     "output_type": "stream",
     "text": [
      "Some of the given T and P values lie outside the range of critical conditions: Tc=405.55 & Pc=11277000.0\n"
     ]
    },
    {
     "data": {
      "text/plain": [
       "array([8.6569546e+03, 1.1277000e+07])"
      ]
     },
     "execution_count": 7,
     "metadata": {},
     "output_type": "execute_result"
    }
   ],
   "source": [
    "molecule.antoine([T1, T2])"
   ]
  },
  {
   "cell_type": "code",
   "execution_count": 8,
   "id": "34dc29ef",
   "metadata": {},
   "outputs": [
    {
     "data": {
      "text/plain": [
       "450"
      ]
     },
     "execution_count": 8,
     "metadata": {},
     "output_type": "execute_result"
    }
   ],
   "source": [
    "T2"
   ]
  },
  {
   "cell_type": "code",
   "execution_count": null,
   "id": "8b1685ba",
   "metadata": {},
   "outputs": [],
   "source": []
  }
 ],
 "metadata": {
  "kernelspec": {
   "display_name": "Python 3 (ipykernel)",
   "language": "python",
   "name": "python3"
  },
  "language_info": {
   "codemirror_mode": {
    "name": "ipython",
    "version": 3
   },
   "file_extension": ".py",
   "mimetype": "text/x-python",
   "name": "python",
   "nbconvert_exporter": "python",
   "pygments_lexer": "ipython3",
   "version": "3.9.12"
  }
 },
 "nbformat": 4,
 "nbformat_minor": 5
}
