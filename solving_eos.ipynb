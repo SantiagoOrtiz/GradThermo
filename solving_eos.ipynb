{
 "cells": [
  {
   "cell_type": "code",
   "execution_count": 1,
   "id": "5bd0ed94",
   "metadata": {},
   "outputs": [],
   "source": [
    "import numpy as np\n",
    "from scipy.optimize import fsolve"
   ]
  },
  {
   "cell_type": "code",
   "execution_count": 2,
   "id": "2a60ea49",
   "metadata": {},
   "outputs": [],
   "source": [
    "class EOS:\n",
    "\n",
    "    def __init__(self, temperature, pressure):\n",
    "        self.T = temperature\n",
    "        self.P = pressure\n",
    "    \n",
    "    def __PengRobinson(self, ʋ, a, b, ω, Tc, R):\n",
    "        T = self.T\n",
    "        P = self.P\n",
    "\n",
    "        def α(T, ω, Tc):\n",
    "            Tr = T/Tc\n",
    "            ωpol = 0.37464 + 1.5422*ω - 0.26992*np.power(ω, 2)\n",
    "            alpha = np.power(1 + (1 - np.sqrt(Tr))*ωpol, 2)\n",
    "            return alpha\n",
    "\n",
    "        ʋpol = np.power(ʋ, 2) + 2*b*ʋ - np.power(b, 2)\n",
    "        f = (R*T)/(ʋ - b) - a*α(T, ω, Tc)/ʋpol - P\n",
    "        return T*ʋ + P*np.cos(ʋ)\n",
    "    \n",
    "    def solve_eos(self, ʋ0=1.0, a=1.5, b=1.8, ω=1.3, Tc=1.7, R=8.314):\n",
    "        eos = lambda ʋ: self.__PengRobinson(ʋ, a, b, ω, Tc, R)\n",
    "        ʋ_solution = fsolve(eos, ʋ0)\n",
    "        return ʋ_solution\n",
    "    "
   ]
  },
  {
   "cell_type": "code",
   "execution_count": 3,
   "id": "fa0f1bdb",
   "metadata": {},
   "outputs": [
    {
     "data": {
      "text/plain": [
       "array([1.97738303])"
      ]
     },
     "execution_count": 3,
     "metadata": {},
     "output_type": "execute_result"
    }
   ],
   "source": [
    "test = EOS(1, 5)\n",
    "test.solve_eos()"
   ]
  },
  {
   "cell_type": "code",
   "execution_count": 4,
   "id": "face904c",
   "metadata": {},
   "outputs": [
    {
     "name": "stdout",
     "output_type": "stream",
     "text": [
      "[1.97738303]\n"
     ]
    }
   ],
   "source": [
    "def my_func(ʋ, T, P):\n",
    "    return T*ʋ + P*np.cos(ʋ)\n",
    "\n",
    "root = fsolve(my_func, 1.5, args=(1, 5))\n",
    "print(root)"
   ]
  },
  {
   "cell_type": "code",
   "execution_count": null,
   "id": "7c6aa4f5",
   "metadata": {},
   "outputs": [],
   "source": []
  }
 ],
 "metadata": {
  "kernelspec": {
   "display_name": "Python 3 (ipykernel)",
   "language": "python",
   "name": "python3"
  },
  "language_info": {
   "codemirror_mode": {
    "name": "ipython",
    "version": 3
   },
   "file_extension": ".py",
   "mimetype": "text/x-python",
   "name": "python",
   "nbconvert_exporter": "python",
   "pygments_lexer": "ipython3",
   "version": "3.9.15"
  }
 },
 "nbformat": 4,
 "nbformat_minor": 5
}
