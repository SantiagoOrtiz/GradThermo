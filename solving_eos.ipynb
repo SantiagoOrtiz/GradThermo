{
 "cells": [
  {
   "cell_type": "code",
   "execution_count": 1,
   "id": "5bd0ed94",
   "metadata": {},
   "outputs": [],
   "source": [
    "import numpy as np\n",
    "import pandas as pd\n",
    "from scipy.optimize import fsolve"
   ]
  },
  {
   "cell_type": "code",
   "execution_count": 2,
   "id": "2a60ea49",
   "metadata": {},
   "outputs": [],
   "source": [
    "class EOS:   \n",
    "\n",
    "    def __init__(self, molecule='NH3'):\n",
    "        db_dict = pd.read_csv('database.csv').set_index('Parameter').to_dict()\n",
    "        self.ω = db_dict[molecule]['ω']\n",
    "        self.Tc = db_dict[molecule]['Tc']\n",
    "        self.Pc = db_dict[molecule]['Pc']\n",
    "    \n",
    "    def __PengRobinson(self, ʋ, T, P, R=8.314):\n",
    "        ω=self.ω; Tc=self.Tc; Pc=self.Pc\n",
    "        def α(T, ω, Tc):\n",
    "            Tr = T/Tc\n",
    "            ωpol = 0.37464 + 1.5422*ω - 0.26992*np.power(ω, 2)\n",
    "            alpha = np.power(1 + (1 - np.sqrt(Tr))*ωpol, 2)\n",
    "            return alpha\n",
    "        \n",
    "        a = 0.45724 * (np.power(R, 2)*np.power(Tc, 2))/Pc\n",
    "        b = 0.07780 * R*Tc/Pc\n",
    "        ʋpol = np.power(ʋ, 2) + 2*b*ʋ - np.power(b, 2)\n",
    "        f = (R*T)/(ʋ - b) - a*α(T, ω, Tc)/ʋpol - P\n",
    "        return f\n",
    "\n",
    "    def solve_eos(self, T, P, ʋ0=1.0E-2, R=8.314):\n",
    "        if (type(T) != list) or (type(P) != list):\n",
    "            T = np.array([T])\n",
    "            P = np.array([P])\n",
    "            \n",
    "        ʋ_solution = np.zeros_like(T, float)\n",
    "        for i, (Ti, Pi) in enumerate(zip(T, P)):\n",
    "            eos = lambda ʋ: self.__PengRobinson(ʋ, Ti, Pi, R)\n",
    "            ʋ_solution[i] = fsolve(eos, ʋ0)[0]\n",
    "            ʋ0 = ʋ_solution[i]\n",
    "        return ʋ_solution\n",
    "    \n",
    "    def get__PengRobinson(self):\n",
    "        peng_robinson = lambda ʋ, T, P: self.__PengRobinson(ʋ, T, P)\n",
    "        return peng_robinson"
   ]
  },
  {
   "cell_type": "code",
   "execution_count": 3,
   "id": "c97a7e47",
   "metadata": {},
   "outputs": [
    {
     "name": "stdout",
     "output_type": "stream",
     "text": [
      "ω =  0.255\n",
      "Pc =  11277000.0\n",
      "Tc =  405.55\n"
     ]
    }
   ],
   "source": [
    "NH3 = EOS()\n",
    "print(\"ω = \", NH3.ω)\n",
    "print(\"Pc = \", NH3.Pc)\n",
    "print(\"Tc = \", NH3.Tc)"
   ]
  },
  {
   "cell_type": "code",
   "execution_count": 4,
   "id": "fa0f1bdb",
   "metadata": {},
   "outputs": [],
   "source": [
    "T = [350, 360]          # K\n",
    "P = [20.0E5, 25.0E5]    # Pa\n",
    "ʋmol = NH3.solve_eos(T, P)"
   ]
  },
  {
   "cell_type": "code",
   "execution_count": 5,
   "id": "07d4f12c",
   "metadata": {},
   "outputs": [
    {
     "data": {
      "text/plain": [
       "array([0.00129034, 0.00103973])"
      ]
     },
     "execution_count": 5,
     "metadata": {},
     "output_type": "execute_result"
    }
   ],
   "source": [
    "ʋmol"
   ]
  }
 ],
 "metadata": {
  "kernelspec": {
   "display_name": "Python 3 (ipykernel)",
   "language": "python",
   "name": "python3"
  },
  "language_info": {
   "codemirror_mode": {
    "name": "ipython",
    "version": 3
   },
   "file_extension": ".py",
   "mimetype": "text/x-python",
   "name": "python",
   "nbconvert_exporter": "python",
   "pygments_lexer": "ipython3",
   "version": "3.9.12"
  }
 },
 "nbformat": 4,
 "nbformat_minor": 5
}
