{
 "cells": [
  {
   "cell_type": "code",
   "execution_count": 1,
   "id": "5bd0ed94",
   "metadata": {},
   "outputs": [],
   "source": [
    "import numpy as np\n",
    "from scipy.optimize import fsolve"
   ]
  },
  {
   "cell_type": "code",
   "execution_count": 2,
   "id": "2a60ea49",
   "metadata": {},
   "outputs": [],
   "source": [
    "class EOS:\n",
    "\n",
    "    def __init__(self, temperature, pressure):\n",
    "        self.T = temperature\n",
    "        self.P = pressure\n",
    "    \n",
    "    def __PengRobinson(self, ʋ, ω=0.255, Tc=405.55, Pc=112.77E5, R=8.314):\n",
    "        T = self.T\n",
    "        P = self.P\n",
    "        \n",
    "        def α(T, ω, Tc):\n",
    "            Tr = T/Tc\n",
    "            ωpol = 0.37464 + 1.5422*ω - 0.26992*np.power(ω, 2)\n",
    "            alpha = np.power(1 + (1 - np.sqrt(Tr))*ωpol, 2)\n",
    "            return alpha\n",
    "        \n",
    "        a = 0.45724 * (np.power(R, 2)*np.power(Tc, 2))/Pc\n",
    "        b = 0.07780 * R*Tc/Pc\n",
    "        ʋpol = np.power(ʋ, 2) + 2*b*ʋ - np.power(b, 2)\n",
    "        f = (R*T)/(ʋ - b) - a*α(T, ω, Tc)/ʋpol - P\n",
    "        return f\n",
    "\n",
    "    def solve_eos(self, ʋ0=1.0E-2, ω=0.255, Tc=405.55, Pc=112.77E5, R=8.314):\n",
    "        eos = lambda ʋ: self.__PengRobinson(ʋ, ω, Tc, Pc, R)\n",
    "        ʋ_solution = fsolve(eos, ʋ0)\n",
    "        return ʋ_solution\n",
    "    \n",
    "    def test_solution(self):\n",
    "        ʋmol = self.solve_eos()[0]\n",
    "        if abs(self.__PengRobinson(ʋmol)) < 1.0E-6:\n",
    "            return f\"The solver was sucessful: ʋmol={round(ʋmol, 5)}\"\n",
    "        else:\n",
    "            return \"Root not found inside the limits.\""
   ]
  },
  {
   "cell_type": "code",
   "execution_count": 3,
   "id": "fa0f1bdb",
   "metadata": {},
   "outputs": [],
   "source": [
    "T = 350       # K\n",
    "P = 20.0E5    # MPa\n",
    "test = EOS(T, P)\n",
    "ʋmol = test.solve_eos()[0]"
   ]
  },
  {
   "cell_type": "code",
   "execution_count": 4,
   "id": "8c3968e3",
   "metadata": {},
   "outputs": [
    {
     "data": {
      "text/plain": [
       "'The solver was sucessful: ʋmol=0.00129'"
      ]
     },
     "execution_count": 4,
     "metadata": {},
     "output_type": "execute_result"
    }
   ],
   "source": [
    "test.test_solution()"
   ]
  }
 ],
 "metadata": {
  "kernelspec": {
   "display_name": "Python 3 (ipykernel)",
   "language": "python",
   "name": "python3"
  },
  "language_info": {
   "codemirror_mode": {
    "name": "ipython",
    "version": 3
   },
   "file_extension": ".py",
   "mimetype": "text/x-python",
   "name": "python",
   "nbconvert_exporter": "python",
   "pygments_lexer": "ipython3",
   "version": "3.9.12"
  }
 },
 "nbformat": 4,
 "nbformat_minor": 5
}
