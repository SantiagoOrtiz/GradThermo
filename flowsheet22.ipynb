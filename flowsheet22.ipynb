{
 "cells": [
  {
   "cell_type": "code",
   "execution_count": 1,
   "id": "7ab4c28d",
   "metadata": {},
   "outputs": [
    {
     "name": "stdout",
     "output_type": "stream",
     "text": [
      "ω =  0.151\n",
      "Pc =  6680000.0\n",
      "Tc =  416.2\n",
      "Or =  [7.32  0.637 0.637]\n",
      "Ov =  [4270. 1950. 1050. 4380. 4380. 2140. 2140. 1460. 1460.]\n"
     ]
    },
    {
     "data": {
      "text/plain": [
       "array(6.53610827e-05)"
      ]
     },
     "execution_count": 1,
     "metadata": {},
     "output_type": "execute_result"
    }
   ],
   "source": [
    "import numpy as np\n",
    "from src.solving_eos import EOS\n",
    "molecule = EOS(molecule='CH3Cl')\n",
    "print(\"ω = \", molecule.ω)\n",
    "print(\"Pc = \", molecule.Pc)\n",
    "print(\"Tc = \", molecule.Tc)\n",
    "print(\"Or = \", molecule.Or)\n",
    "print(\"Ov = \", molecule.Ov)\n",
    "\n",
    "ʋmol = molecule.solve_eos(350, 20.0E5)\n",
    "ʋmol"
   ]
  },
  {
   "cell_type": "code",
   "execution_count": 2,
   "id": "b3d41de8",
   "metadata": {
    "scrolled": true
   },
   "outputs": [],
   "source": [
    "#molecule.check_SMEq(200,6000)"
   ]
  },
  {
   "cell_type": "code",
   "execution_count": 3,
   "id": "f873526c",
   "metadata": {},
   "outputs": [],
   "source": [
    "T1, T2 = 200, 450\n",
    "P1, P2 = 0.06E5, 2.09E5\n",
    "\n",
    "T = np.array([T1,T2])\n",
    "P = np.array([P1,P2])"
   ]
  },
  {
   "cell_type": "code",
   "execution_count": 4,
   "id": "537c429c",
   "metadata": {},
   "outputs": [],
   "source": [
    "# import numpy as np\n",
    "# T = np.linspace(300, 360, 10)\n",
    "# P = np.linspace(15.0E5, 20.0E5, 15)\n",
    "# T, P = np.meshgrid(T, P)\n",
    "# ʋmol = molecule.solve_eos(T, P)\n",
    "# pr = molecule.get__PengRobinson()\n",
    "# print(\"min error\", np.min(pr(ʋmol, T, P)))\n",
    "# print(\"max error\", np.max(pr(ʋmol, T, P)))\n",
    "# ʋmol"
   ]
  },
  {
   "cell_type": "code",
   "execution_count": 5,
   "id": "8de8ffdf",
   "metadata": {},
   "outputs": [
    {
     "data": {
      "text/plain": [
       "33.72277523108198"
      ]
     },
     "execution_count": 5,
     "metadata": {},
     "output_type": "execute_result"
    }
   ],
   "source": [
    "molecule.ΔH_real([200,450], [0.06E5, 2.09E5])/1000"
   ]
  },
  {
   "cell_type": "code",
   "execution_count": 6,
   "id": "14ca41bd",
   "metadata": {},
   "outputs": [
    {
     "data": {
      "text/plain": [
       "-23125.971776911792"
      ]
     },
     "execution_count": 6,
     "metadata": {},
     "output_type": "execute_result"
    }
   ],
   "source": [
    "molecule.ΔH_dep(T1, P1)"
   ]
  },
  {
   "cell_type": "code",
   "execution_count": 7,
   "id": "c38d45b4",
   "metadata": {},
   "outputs": [
    {
     "data": {
      "text/plain": [
       "-1567.4189909689271"
      ]
     },
     "execution_count": 7,
     "metadata": {},
     "output_type": "execute_result"
    }
   ],
   "source": [
    "(molecule.H_ig(T1,P1) + molecule.ΔH_dep(T1,P1))/1000"
   ]
  },
  {
   "cell_type": "code",
   "execution_count": 8,
   "id": "1adf6cc2",
   "metadata": {},
   "outputs": [
    {
     "data": {
      "text/plain": [
       "-0.10739798569287905"
      ]
     },
     "execution_count": 8,
     "metadata": {},
     "output_type": "execute_result"
    }
   ],
   "source": [
    "(molecule.ΔH_dep(T2,P2))/1000"
   ]
  },
  {
   "cell_type": "code",
   "execution_count": 9,
   "id": "1a6bde32",
   "metadata": {},
   "outputs": [
    {
     "data": {
      "text/plain": [
       "17.732979713025163"
      ]
     },
     "execution_count": 9,
     "metadata": {},
     "output_type": "execute_result"
    }
   ],
   "source": [
    "molecule.solve_eos(T2,P2, T2*8.314/P2)*1000"
   ]
  },
  {
   "cell_type": "code",
   "execution_count": 10,
   "id": "712fb49e",
   "metadata": {},
   "outputs": [
    {
     "data": {
      "text/plain": [
       "0.151"
      ]
     },
     "execution_count": 10,
     "metadata": {},
     "output_type": "execute_result"
    }
   ],
   "source": [
    "molecule.ω"
   ]
  },
  {
   "cell_type": "code",
   "execution_count": 11,
   "id": "9449f64a",
   "metadata": {},
   "outputs": [
    {
     "data": {
      "text/plain": [
       "33830.17321677486"
      ]
     },
     "execution_count": 11,
     "metadata": {},
     "output_type": "execute_result"
    }
   ],
   "source": [
    "molecule.ΔH_ig(T,P) - molecule.ΔH_dep(T1, P1) "
   ]
  },
  {
   "cell_type": "code",
   "execution_count": 12,
   "id": "28b17b09",
   "metadata": {},
   "outputs": [],
   "source": [
    "b = molecule.get__b()\n",
    "a = molecule.get__a()\n",
    "k  = molecule.get__α(T1) - T1*molecule.get__dαdT(T1) \n",
    "R = 8.3144598    "
   ]
  },
  {
   "cell_type": "code",
   "execution_count": 13,
   "id": "5fc49ca4",
   "metadata": {},
   "outputs": [],
   "source": [
    "#kk = k * a/(b*2*np.power(2,0.5)) \n",
    "v_mol = molecule.solve_eos(T1,P1) \n",
    "v_mol2 = molecule.solve_eos(T2,P2) "
   ]
  },
  {
   "cell_type": "code",
   "execution_count": 14,
   "id": "c53e1e27",
   "metadata": {},
   "outputs": [
    {
     "ename": "NameError",
     "evalue": "name 'gas1' is not defined",
     "output_type": "error",
     "traceback": [
      "\u001b[1;31m---------------------------------------------------------------------------\u001b[0m",
      "\u001b[1;31mNameError\u001b[0m                                 Traceback (most recent call last)",
      "Cell \u001b[1;32mIn[14], line 1\u001b[0m\n\u001b[1;32m----> 1\u001b[0m \u001b[38;5;28;01mdef\u001b[39;00m \u001b[38;5;21mcheckHdep1\u001b[39m(T1, P1, guess \u001b[38;5;241m=\u001b[39m \u001b[43mgas1\u001b[49m):\n\u001b[0;32m      2\u001b[0m     vmol1 \u001b[38;5;241m=\u001b[39m molecule\u001b[38;5;241m.\u001b[39msolve_eos(T1,P1, guess)\n\u001b[0;32m      4\u001b[0m     b \u001b[38;5;241m=\u001b[39m molecule\u001b[38;5;241m.\u001b[39mget__b()\n",
      "\u001b[1;31mNameError\u001b[0m: name 'gas1' is not defined"
     ]
    }
   ],
   "source": [
    "def checkHdep1(T1, P1, guess = gas1):\n",
    "    vmol1 = molecule.solve_eos(T1,P1, guess)\n",
    "    \n",
    "    b = molecule.get__b()\n",
    "    a = molecule.get__a()\n",
    "    root_2 = np.power(2,0.5)\n",
    "    \n",
    "    k  = molecule.get__α(T1) - T1*molecule.get__dαdT(T1) \n",
    "    \n",
    "    kk = k * a/(b*2*root_2) \n",
    "    \n",
    "    int21 = (np.log((vmol1 + b*(1 - root_2))/(vmol1 + b*(1 + root_2))))\n",
    "    \n",
    "    #int22 = (np.log((v_mol2 + b*(1 - root_2))/(v_mol2 + b*(1 + root_2))))\n",
    "    R = 8.3144598    \n",
    "    \n",
    "    \n",
    "    \n",
    "    return  kk*(int21) + P1*vmol1 - R*T1"
   ]
  },
  {
   "cell_type": "code",
   "execution_count": 16,
   "id": "93117bc1",
   "metadata": {},
   "outputs": [
    {
     "data": {
      "text/plain": [
       "-23.125971776911793"
      ]
     },
     "execution_count": 16,
     "metadata": {},
     "output_type": "execute_result"
    }
   ],
   "source": [
    "molecule.ΔH_dep(T1, P1)/1000"
   ]
  },
  {
   "cell_type": "code",
   "execution_count": 17,
   "id": "a051109e",
   "metadata": {},
   "outputs": [
    {
     "data": {
      "text/plain": [
       "33.72277523108198"
      ]
     },
     "execution_count": 17,
     "metadata": {},
     "output_type": "execute_result"
    }
   ],
   "source": [
    "(-molecule.ΔH_dep(T1,P1)+molecule.ΔH_dep(T2, P2) + molecule.ΔH_ig(T,P))/1000"
   ]
  },
  {
   "cell_type": "code",
   "execution_count": null,
   "id": "30a2eefd",
   "metadata": {},
   "outputs": [],
   "source": [
    "gas1 = R*T1/P1\n",
    "gas2 = R*T2/P2\n",
    "\n",
    "liq = 1.2*b"
   ]
  },
  {
   "cell_type": "code",
   "execution_count": 18,
   "id": "5d2c2d75",
   "metadata": {},
   "outputs": [
    {
     "data": {
      "text/plain": [
       "33722.77523108199"
      ]
     },
     "execution_count": 18,
     "metadata": {},
     "output_type": "execute_result"
    }
   ],
   "source": [
    "H_real1 = (molecule.ΔH_dep(T1, P1) + molecule.H_ig(T1,P1))\n",
    "H_real2 = (molecule.ΔH_dep(T2, P2 ) + molecule.H_ig(T2,P2))\n",
    "\n",
    "H_real2 - H_real1"
   ]
  },
  {
   "cell_type": "code",
   "execution_count": 21,
   "id": "0d6574ba",
   "metadata": {},
   "outputs": [
    {
     "data": {
      "text/plain": [
       "-52.250396929344134"
      ]
     },
     "execution_count": 21,
     "metadata": {},
     "output_type": "execute_result"
    }
   ],
   "source": [
    "(H_real2 - H_real1 - T2*S_real2 + T1*S_real1 )/1000"
   ]
  },
  {
   "cell_type": "code",
   "execution_count": null,
   "id": "5c511f2e",
   "metadata": {},
   "outputs": [],
   "source": [
    "molecule.ΔH_dep(T1,P1)/1000 "
   ]
  },
  {
   "cell_type": "code",
   "execution_count": 20,
   "id": "f1dad04c",
   "metadata": {},
   "outputs": [],
   "source": [
    "S_real1 = molecule.ΔS_dep(T1,P1) + molecule.S_ig(T1,P1)\n",
    "\n",
    "S_real2 = molecule.ΔS_dep(T2,P2) + molecule.S_ig(T2,P2)\n",
    "\n"
   ]
  },
  {
   "cell_type": "code",
   "execution_count": null,
   "id": "a7bf8557",
   "metadata": {},
   "outputs": [],
   "source": [
    "(H_real1 - T1*S_real1)/1000"
   ]
  },
  {
   "cell_type": "code",
   "execution_count": null,
   "id": "d7204902",
   "metadata": {},
   "outputs": [],
   "source": [
    "H_real1/1000"
   ]
  },
  {
   "cell_type": "code",
   "execution_count": null,
   "id": "f258538b",
   "metadata": {},
   "outputs": [],
   "source": []
  }
 ],
 "metadata": {
  "kernelspec": {
   "display_name": "Python 3 (ipykernel)",
   "language": "python",
   "name": "python3"
  },
  "language_info": {
   "codemirror_mode": {
    "name": "ipython",
    "version": 3
   },
   "file_extension": ".py",
   "mimetype": "text/x-python",
   "name": "python",
   "nbconvert_exporter": "python",
   "pygments_lexer": "ipython3",
   "version": "3.10.9"
  }
 },
 "nbformat": 4,
 "nbformat_minor": 5
}
